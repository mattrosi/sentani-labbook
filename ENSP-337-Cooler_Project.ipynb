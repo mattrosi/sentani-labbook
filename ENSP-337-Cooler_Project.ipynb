{
 "cells": [
  {
   "cell_type": "markdown",
   "metadata": {},
   "source": [
    "#### Matt Rosi ENSP-337 4442248"
   ]
  },
  {
   "cell_type": "code",
   "execution_count": 1,
   "metadata": {
    "collapsed": true
   },
   "outputs": [],
   "source": [
    "import math as m\n",
    "from pint import UnitRegistry\n",
    "u = UnitRegistry()"
   ]
  },
  {
   "cell_type": "markdown",
   "metadata": {},
   "source": [
    "The chosen cooler design will consist of a 0.31 m long bear can that has a radius of 0.10 m. The bear can will be filled with a feather sleeping bag that has a conductivity of 0.02 W/mK. The extremely low conductivity ensures that conduction will be maximally reduced by limiting the power that flows through the walls of the bear can. In order to acurately determine the R value of the container, the formula for a sphere will offer a better approximation than that of a cylindrical insulator because in the cylindrical formula, it does not account for the heat flow through each end of the container:\n",
    "$$ R = \\frac{1}{4\\pi K} \\left(\\frac{1}{r_1}-\\frac{1}{r_2} \\right)m$$\n",
    "Using an approximation for the outer radius of 0.14m which represents the outer wall of the bear can and an inner radius of 0.037 m which represents the block of ice the equation will be solved:\n",
    "$$R = \\frac{1}{4\\pi 0.02 \\frac{W}{mK}} \\left(\\frac{1}{0.037}-\\frac{1}{0.14} \\right)m$$"
   ]
  },
  {
   "cell_type": "code",
   "execution_count": 2,
   "metadata": {
    "collapsed": false
   },
   "outputs": [
    {
     "data": {
      "text/html": [
       "79.11659815861593 kelvin meter<sup>2</sup>/watt"
      ],
      "text/latex": [
       "$79.11659815861593 \\frac{kelvin \\cdot meter^{2}}{watt}$"
      ],
      "text/plain": [
       "<Quantity(79.11659815861593, 'kelvin * meter ** 2 / watt')>"
      ]
     },
     "execution_count": 2,
     "metadata": {},
     "output_type": "execute_result"
    }
   ],
   "source": [
    "R = (1 /(4 * m.pi * 0.02 * (u.watt/u.meter/u.kelvin))) * ((1 / .037)-(1/.14))*u.meter\n",
    "R"
   ]
  },
  {
   "cell_type": "markdown",
   "metadata": {},
   "source": [
    "The container will have an overall R-value of 80\n",
    "$$R = 80 \\frac{m^2K}{W}$$\n",
    "Calculating the U value in order to obtain the UA product:"
   ]
  },
  {
   "cell_type": "code",
   "execution_count": 3,
   "metadata": {
    "collapsed": false
   },
   "outputs": [
    {
     "data": {
      "text/html": [
       "0.01263957277327777 watt/(kelvin meter<sup>2</sup>)"
      ],
      "text/latex": [
       "$0.01263957277327777 \\frac{watt}{\\left(kelvin \\cdot meter^{2}\\right)}$"
      ],
      "text/plain": [
       "<Quantity(0.01263957277327777, 'watt / kelvin / meter ** 2')>"
      ]
     },
     "execution_count": 3,
     "metadata": {},
     "output_type": "execute_result"
    }
   ],
   "source": [
    "U = 1/R\n",
    "U"
   ]
  },
  {
   "cell_type": "markdown",
   "metadata": {},
   "source": [
    "$$U = 0.13 \\frac{W}{m^2K}$$\n",
    "$$UA = 0.13 \\frac{W}{K}$$\n",
    "In order to determine the power transfered through the walls of the cooler with the approximated temperature change of 25$^{\\circ}$K, the following equation will be used:\n",
    "$$q = UA \\Delta T$$\n",
    "$$q = 0.013 \\frac{W}{K}25^{\\circ}K $$"
   ]
  },
  {
   "cell_type": "code",
   "execution_count": 4,
   "metadata": {
    "collapsed": false
   },
   "outputs": [
    {
     "data": {
      "text/html": [
       "0.325 watt"
      ],
      "text/latex": [
       "$0.325 watt$"
      ],
      "text/plain": [
       "<Quantity(0.325, 'watt')>"
      ]
     },
     "execution_count": 4,
     "metadata": {},
     "output_type": "execute_result"
    }
   ],
   "source": [
    "q = 0.013 * (u.watt / u.degK) * 25 * u.degK\n",
    "q"
   ]
  },
  {
   "cell_type": "markdown",
   "metadata": {},
   "source": [
    "The amount of power transfered through the container is 0.33 W."
   ]
  },
  {
   "cell_type": "markdown",
   "metadata": {},
   "source": [
    "In order to figure out the remaining mass of ice after 24 hours we must first find out the energy required over 24 hours by multiplying power by time:\n",
    "$$E = p * t$$\n",
    "$$E = 0.33W * 24 hr$$"
   ]
  },
  {
   "cell_type": "code",
   "execution_count": 5,
   "metadata": {
    "collapsed": false
   },
   "outputs": [
    {
     "data": {
      "text/html": [
       "28080.000000000004 joule"
      ],
      "text/latex": [
       "$28080.000000000004 joule$"
      ],
      "text/plain": [
       "<Quantity(28080.000000000004, 'joule')>"
      ]
     },
     "execution_count": 5,
     "metadata": {},
     "output_type": "execute_result"
    }
   ],
   "source": [
    "E = 0.325 * u.watt * 24 * u.hour\n",
    "E.to(u.joule)"
   ]
  },
  {
   "cell_type": "markdown",
   "metadata": {},
   "source": [
    "The amount of energy that flows through the container over 24 hours is 28 kJ."
   ]
  },
  {
   "cell_type": "markdown",
   "metadata": {},
   "source": [
    "The amount of energy needed when melting ice are given by the equations:\n",
    "$$Q_1 = m\\Delta H $$\n",
    "$$Q_2 = m C_s \\Delta T$$\n",
    "$$Q_{total} = m(\\Delta H+(C_s \\Delta T))$$\n",
    "Where $Q_1$ is the energy of the phase change before the melting begins and $Q_2$ is the energy for the entire cube of ice to melt over a certain temperature range."
   ]
  },
  {
   "cell_type": "markdown",
   "metadata": {},
   "source": [
    "Since the energy was calculated over the 24 hour period, that figure will be used to calculate the mass remaining after 24 hours by rearranging the equation to solve for m:\n",
    "$$m = \\frac{Q_{total}}{(\\Delta H+(C_s \\Delta T)}$$"
   ]
  },
  {
   "cell_type": "markdown",
   "metadata": {},
   "source": [
    "$$m = \\frac{28000 J}{334 \\frac{J}{g}+(4.186 \\frac{J}{g^{\\circ}K} 25^{\\circ}K)}$$"
   ]
  },
  {
   "cell_type": "code",
   "execution_count": 6,
   "metadata": {
    "collapsed": false
   },
   "outputs": [
    {
     "data": {
      "text/html": [
       "63.83221247007865 gram"
      ],
      "text/latex": [
       "$63.83221247007865 gram$"
      ],
      "text/plain": [
       "<Quantity(63.83221247007865, 'gram')>"
      ]
     },
     "execution_count": 6,
     "metadata": {},
     "output_type": "execute_result"
    }
   ],
   "source": [
    "m = ((28000 * u.joule) / (334 * (u.joule/u.gram) + 4.186 * (u.joule/(u.gram*u.degK))*25*u.degK))\n",
    "m"
   ]
  },
  {
   "cell_type": "markdown",
   "metadata": {},
   "source": [
    "After 24 hours the amount of ice remaining should be 64 grams, however there are other external forces not calculated in this equation such as the starting temperature of the ice, which could be anywhere from -2 to -5 degrees celsius, and the tiny air pockets that are trapped in between the feathers, which would decrease the R-value through a significant loss in convection. Also, the black, plastic walls of the bear can will offer minimal protection against radiation therefore, drastically decreasing the R-value of the improvised cooler. The formulation used to determine the R-value, which used the R-value calcultation of a sphere will not be exact as it does not have exactly the same physical dimensions. Taking this into consideration an approximation of ice remaining after 24 hours will be about half, 32 grams."
   ]
  },
  {
   "cell_type": "markdown",
   "metadata": {},
   "source": [
    "Now, to find out how long the 100 gram ice cube will last in the improvised cooler, the total energy will be calculated:\n",
    "$$Q_{total} = 100g(334 \\frac{J}{g} + (4.186 \\frac{J}{g^{\\circ}K}*25^{\\circ}K)$$"
   ]
  },
  {
   "cell_type": "code",
   "execution_count": 7,
   "metadata": {
    "collapsed": false
   },
   "outputs": [
    {
     "data": {
      "text/html": [
       "43865.0 joule"
      ],
      "text/latex": [
       "$43865.0 joule$"
      ],
      "text/plain": [
       "<Quantity(43865.0, 'joule')>"
      ]
     },
     "execution_count": 7,
     "metadata": {},
     "output_type": "execute_result"
    }
   ],
   "source": [
    "Q_tot = 100*u.gram * (334*(u.joule/u.gram) + (4.186 * (u.joule/u.gram/u.degK) * 25 * u.degK))\n",
    "Q_tot"
   ]
  },
  {
   "cell_type": "markdown",
   "metadata": {},
   "source": [
    "The total amount of energy to melt the 100 g ice cube is 44 kJ."
   ]
  },
  {
   "cell_type": "markdown",
   "metadata": {
    "collapsed": true
   },
   "source": [
    "Dividing energy by power, which is converted from 0.33 W to 0.33 J/s, will give the amount of time that the ice will take to melt completely:\n",
    "$$E = p*t$$\n",
    "$$t = \\frac{E}{p}$$\n",
    "$$t = \\frac{44,000J}{0.33 \\frac{J}{s}}$$"
   ]
  },
  {
   "cell_type": "code",
   "execution_count": 8,
   "metadata": {
    "collapsed": false
   },
   "outputs": [
    {
     "data": {
      "text/html": [
       "37.03703703703703 hour"
      ],
      "text/latex": [
       "$37.03703703703703 hour$"
      ],
      "text/plain": [
       "<Quantity(37.03703703703703, 'hour')>"
      ]
     },
     "execution_count": 8,
     "metadata": {},
     "output_type": "execute_result"
    }
   ],
   "source": [
    "t = (44000 * u.joule) / (0.33 * (u.joule / u.second)) \n",
    "t.to(u.hour)"
   ]
  },
  {
   "cell_type": "markdown",
   "metadata": {},
   "source": [
    "Again, taking into consideration the external forces not included in this simple calculation, and because a determination of 32 grams was made above, the total amount of time that the ice will last will be just longer than the 24 hour period at about 27 hours."
   ]
  },
  {
   "cell_type": "code",
   "execution_count": null,
   "metadata": {
    "collapsed": true
   },
   "outputs": [],
   "source": []
  }
 ],
 "metadata": {
  "kernelspec": {
   "display_name": "Python 3",
   "language": "python",
   "name": "python3"
  },
  "language_info": {
   "codemirror_mode": {
    "name": "ipython",
    "version": 3
   },
   "file_extension": ".py",
   "mimetype": "text/x-python",
   "name": "python",
   "nbconvert_exporter": "python",
   "pygments_lexer": "ipython3",
   "version": "3.4.3"
  }
 },
 "nbformat": 4,
 "nbformat_minor": 0
}
