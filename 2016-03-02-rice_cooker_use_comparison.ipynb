{
 "cells": [
  {
   "cell_type": "code",
   "execution_count": 1,
   "metadata": {
    "collapsed": true
   },
   "outputs": [],
   "source": [
    "%matplotlib inline\n",
    "import seaborn as sns\n",
    "import matplotlib.pyplot as plt\n",
    "import pandas as pd\n",
    "import pysentani as sti\n",
    "survey = pd.read_excel('../data-anonymous/sentani-merged-cleaned-anonymous-2014-11-29.xlsx')\n",
    "survey['access_type'] = sti.access_type(survey)"
   ]
  },
  {
   "cell_type": "code",
   "execution_count": 2,
   "metadata": {
    "collapsed": true
   },
   "outputs": [],
   "source": [
    "powers = {'TV':0.075, 'fridge':0.200, 'radio':0.100, 'fan':0.135, 'rice_cooker':0.700, 'lighting':0.400}\n",
    "appliance_list = ['TV', 'fridge', 'radio', 'fan', 'rice_cooker', 'lighting']\n",
    "\n",
    "for appliance in appliance_list:\n",
    "    # create column label from appliance names\n",
    "    wk_col = 'app_{}_per_wk'.format(appliance)\n",
    "    hr_col = 'app_{}_hrs'.format(appliance)\n",
    "    energy_col = 'daily_{}_energy'.format(appliance)\n",
    "    weekly_hr_col = 'weekly_{}_hrs'.format(appliance)\n",
    "    survey[weekly_hr_col] = survey[wk_col] * survey[hr_col]  \n",
    "    #excluding impossible values\n",
    "    survey[weekly_hr_col] = survey[weekly_hr_col][survey[weekly_hr_col]<=168]\n",
    "    survey[energy_col] = survey[weekly_hr_col] / 7 * powers[appliance]"
   ]
  },
  {
   "cell_type": "code",
   "execution_count": 3,
   "metadata": {
    "collapsed": false
   },
   "outputs": [
    {
     "data": {
      "text/plain": [
       "<matplotlib.axes._subplots.AxesSubplot at 0x103169f60>"
      ]
     },
     "execution_count": 3,
     "metadata": {},
     "output_type": "execute_result"
    },
    {
     "data": {
      "image/png": "[encoded data removed]",
      "text/plain": [
       "<matplotlib.figure.Figure at 0x108cd16a0>"
      ]
     },
     "metadata": {},
     "output_type": "display_data"
    }
   ],
   "source": [
    "wk_columns = [f for f in survey.columns if 'weekly' in f]\n",
    "id_columns = ['village_name', 'demand_point', 'access_type']\n",
    "\n",
    "columns = wk_columns + id_columns\n",
    "plt_data = pd.melt(survey[columns], value_vars=wk_columns, id_vars=id_columns)\n",
    "\n",
    "sns.boxplot(data=plt_data, hue='variable', y='value', x='access_type')"
   ]
  },
  {
   "cell_type": "markdown",
   "metadata": {},
   "source": [
    "The boxplot shows a large variance in the distribution of rice cooker use hours per week. We will need to investigate this data field further to see what is going on."
   ]
  },
  {
   "cell_type": "code",
   "execution_count": 4,
   "metadata": {
    "collapsed": false,
    "scrolled": true
   },
   "outputs": [
    {
     "data": {
      "text/plain": [
       "count    167.000000\n",
       "mean      89.359281\n",
       "std       69.632791\n",
       "min        1.000000\n",
       "25%       21.000000\n",
       "50%       49.000000\n",
       "75%      168.000000\n",
       "max      168.000000\n",
       "Name: weekly_rice_cooker_hrs, dtype: float64"
      ]
     },
     "execution_count": 4,
     "metadata": {},
     "output_type": "execute_result"
    }
   ],
   "source": [
    "survey['weekly_rice_cooker_hrs'].describe()"
   ]
  },
  {
   "cell_type": "markdown",
   "metadata": {},
   "source": [
    "Responses are present at 168 hours per week with 75% of responses greater than 20 hours per week.  We can see weekly values of 168 hours per week which is unlikely to reflect actual usage.  The first check will calculate the amount of households that report a maximum weekly hour response."
   ]
  },
  {
   "cell_type": "code",
   "execution_count": 5,
   "metadata": {
    "collapsed": false
   },
   "outputs": [
    {
     "data": {
      "text/plain": [
       "62.0"
      ]
     },
     "execution_count": 5,
     "metadata": {},
     "output_type": "execute_result"
    }
   ],
   "source": [
    "max_value_check = survey['weekly_rice_cooker_hrs'] == 168\n",
    "max_value_check.astype('float').sum()"
   ]
  },
  {
   "cell_type": "markdown",
   "metadata": {},
   "source": [
    "There are 62 reported max value responses out of 167 total."
   ]
  },
  {
   "cell_type": "markdown",
   "metadata": {},
   "source": [
    "Now only response values less than 168 will be calculated to see what effect it has."
   ]
  },
  {
   "cell_type": "code",
   "execution_count": 6,
   "metadata": {
    "collapsed": false
   },
   "outputs": [
    {
     "data": {
      "text/plain": [
       "count    105.000000\n",
       "mean      42.923810\n",
       "std       43.306976\n",
       "min        1.000000\n",
       "25%       14.000000\n",
       "50%       28.000000\n",
       "75%       49.000000\n",
       "max      154.000000\n",
       "Name: weekly_rice_cooker_hrs, dtype: float64"
      ]
     },
     "execution_count": 6,
     "metadata": {},
     "output_type": "execute_result"
    }
   ],
   "source": [
    "no_max_values = survey['weekly_rice_cooker_hrs'][survey['weekly_rice_cooker_hrs']<168]\n",
    "no_max_values.describe()"
   ]
  },
  {
   "cell_type": "markdown",
   "metadata": {},
   "source": [
    "While the values decrease significantly, most of the response values are still very high."
   ]
  },
  {
   "cell_type": "markdown",
   "metadata": {},
   "source": [
    "we will now analyze a different set of data regrading appliance use in Lake Sentani provided by Advancing Energy(#confirm?) for comparison. Information provided about kWh per use is used to provide an estimate of use hours per week. Average power for a rice cooker will currently be estimated at 700 W. Table represents sample mean per household."
   ]
  },
  {
   "cell_type": "markdown",
   "metadata": {},
   "source": [
    "| Appliance            | kWh per use   | Use         | Use per Week |\n",
    "| -------------------- | ------------- | ----------- | ------------ |\n",
    "| TV + Parabola        | 0.040         | hour        | 40 hours     |\n",
    "| Washing Machine      | 0.03          | kg          | 7 kg         |\n",
    "| Water Pump           | 0.027         | 100 liters  | 500 liters   |\n",
    "| Water Boiler         | 0.090         | liter       | 35 liters    |\n",
    "| Rice Cooker          | 0.380         | kg          | 3.5 kg       |\n",
    "| Fridge, big          | 2.600         | day         | 24/7         |\n",
    "| Fridge, small, high  | 2.000         | day         | 24/7         |\n",
    "| Fridge, small, low   | 1.900         | day         | 24/7         |"
   ]
  },
  {
   "cell_type": "markdown",
   "metadata": {},
   "source": [
    "$$rice\\ cooker\\left(\\frac{hours}{week}\\right) = 0.38\\frac{kWh}{kg} \\left(\\frac{3.5kg}{wk}\\right)   \\left(\\frac{rice\\ cooker}{.700kW}\\right)$$"
   ]
  },
  {
   "cell_type": "code",
   "execution_count": 7,
   "metadata": {
    "collapsed": false
   },
   "outputs": [
    {
     "data": {
      "text/plain": [
       "1.9000000000000001"
      ]
     },
     "execution_count": 7,
     "metadata": {},
     "output_type": "execute_result"
    }
   ],
   "source": [
    "ae_rc_weekly_hrs = 0.38 * 3.5 / .700\n",
    "ae_rc_weekly_hrs"
   ]
  },
  {
   "cell_type": "markdown",
   "metadata": {},
   "source": [
    "This calculation reflects that a rice cooker is used an average of 1.9 hours per week per household which seems reasonably likely. Most of the original survey data falls well above this value."
   ]
  },
  {
   "cell_type": "code",
   "execution_count": null,
   "metadata": {
    "collapsed": true
   },
   "outputs": [],
   "source": []
  }
 ],
 "metadata": {
  "kernelspec": {
   "display_name": "Python 3",
   "language": "python",
   "name": "python3"
  },
  "language_info": {
   "codemirror_mode": {
    "name": "ipython",
    "version": 3
   },
   "file_extension": ".py",
   "mimetype": "text/x-python",
   "name": "python",
   "nbconvert_exporter": "python",
   "pygments_lexer": "ipython3",
   "version": "3.4.4"
  }
 },
 "nbformat": 4,
 "nbformat_minor": 0
}
