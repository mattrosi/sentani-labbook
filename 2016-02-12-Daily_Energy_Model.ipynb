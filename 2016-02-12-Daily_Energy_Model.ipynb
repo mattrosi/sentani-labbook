{
 "cells": [
  {
   "cell_type": "code",
   "execution_count": 1,
   "metadata": {
    "collapsed": true
   },
   "outputs": [],
   "source": [
    "import pandas as pd\n",
    "import pysentani as sti\n",
    "survey = pd.read_excel('../data-anonymous/sentani-merged-cleaned-anonymous-2014-11-29.xlsx')\n",
    "survey['access_type'] = sti.access_type(survey)\n",
    "survey = survey.fillna(0)"
   ]
  },
  {
   "cell_type": "markdown",
   "metadata": {},
   "source": [
    "$$daily\\ energy(kWh) = \\left(\\frac{use\\ times\\ per\\ week * hours\\ per\\ use}{7}\\right)power(kW)$$"
   ]
  },
  {
   "cell_type": "code",
   "execution_count": 2,
   "metadata": {
    "collapsed": false
   },
   "outputs": [],
   "source": [
    "survey['daily_TV_energy']     = ((survey['app_TV_per_wk'] * survey['app_TV_hrs'])/7)*.075\n",
    "survey['daily_fridge_energy'] = ((survey['app_fridge_per_wk'] * survey['app_fridge_hrs'])/7)*.200\n",
    "survey['daily_radio_energy']  = ((survey['app_radio_per_wk'] * survey['app_radio_hrs'])/7)*.100\n",
    "survey['daily_fan_energy']    = ((survey['app_fan_per_wk'] * survey['app_fan_hrs'])/7)*.135\n",
    "survey['daily_rc_energy']     = ((survey['app_rice_cooker_per_wk'] * survey['app_rice_cooker_hrs'])/7)*.700\n",
    "survey['daily_light_energy']  = ((survey['app_lighting_per_wk'] * survey['app_lighting_hrs'])/7)*.400"
   ]
  },
  {
   "cell_type": "markdown",
   "metadata": {},
   "source": [
    "Summing individual appliance daily energy to create total daily energy.\n",
    "Better mathematical representation is needed here. Will need to incorporate sigma notation at some point."
   ]
  },
  {
   "cell_type": "code",
   "execution_count": 3,
   "metadata": {
    "collapsed": false
   },
   "outputs": [],
   "source": [
    "survey['total_daily_energy'] = (survey['daily_TV_energy'] + survey['daily_fridge_energy'] +\n",
    "                                survey['daily_radio_energy'] + survey['daily_fan_energy'] +\n",
    "                                survey['daily_rc_energy'] + survey['daily_light_energy'])"
   ]
  },
  {
   "cell_type": "code",
   "execution_count": 4,
   "metadata": {
    "collapsed": false
   },
   "outputs": [],
   "source": [
    "#survey['total_daily_energy']"
   ]
  },
  {
   "cell_type": "markdown",
   "metadata": {},
   "source": [
    "Grouping by daily energy totals. The mean of daily energy is taken and applied across village name and access type columns. Daily energy renamed because it now represents the daily energy mean per each household in kWh. Qgrid is used to enable sorting accross data subset."
   ]
  },
  {
   "cell_type": "code",
   "execution_count": 7,
   "metadata": {
    "collapsed": false
   },
   "outputs": [
    {
     "data": {
      "text/html": [
       "<div>\n",
       "<table border=\"1\" class=\"dataframe\">\n",
       "  <thead>\n",
       "    <tr style=\"text-align: right;\">\n",
       "      <th></th>\n",
       "      <th></th>\n",
       "      <th>daily_energy_mean</th>\n",
       "    </tr>\n",
       "    <tr>\n",
       "      <th>village_name</th>\n",
       "      <th>access_type</th>\n",
       "      <th></th>\n",
       "    </tr>\n",
       "  </thead>\n",
       "  <tbody>\n",
       "    <tr>\n",
       "      <th>Abar</th>\n",
       "      <th>no_access</th>\n",
       "      <td>1740.133168</td>\n",
       "    </tr>\n",
       "    <tr>\n",
       "      <th>Ajau</th>\n",
       "      <th>PLN_grid</th>\n",
       "      <td>5.736990</td>\n",
       "    </tr>\n",
       "    <tr>\n",
       "      <th>Asei</th>\n",
       "      <th>PLN_grid</th>\n",
       "      <td>7.919039</td>\n",
       "    </tr>\n",
       "    <tr>\n",
       "      <th>Atamali</th>\n",
       "      <th>community_microgrid</th>\n",
       "      <td>2.935612</td>\n",
       "    </tr>\n",
       "    <tr>\n",
       "      <th>Ayapo</th>\n",
       "      <th>PLN_microgrid</th>\n",
       "      <td>2.911036</td>\n",
       "    </tr>\n",
       "    <tr>\n",
       "      <th>Babrongko</th>\n",
       "      <th>PLN_grid</th>\n",
       "      <td>79.861301</td>\n",
       "    </tr>\n",
       "    <tr>\n",
       "      <th>Burawai</th>\n",
       "      <th>PLN_grid</th>\n",
       "      <td>5.804464</td>\n",
       "    </tr>\n",
       "    <tr>\n",
       "      <th>Donday</th>\n",
       "      <th>PLN_microgrid</th>\n",
       "      <td>2.448129</td>\n",
       "    </tr>\n",
       "    <tr>\n",
       "      <th>Ebunfauw</th>\n",
       "      <th>no_access</th>\n",
       "      <td>2.271528</td>\n",
       "    </tr>\n",
       "    <tr>\n",
       "      <th>Evale</th>\n",
       "      <th>PLN_grid</th>\n",
       "      <td>8.718052</td>\n",
       "    </tr>\n",
       "    <tr>\n",
       "      <th>Flafow</th>\n",
       "      <th>PLN_grid</th>\n",
       "      <td>6.974688</td>\n",
       "    </tr>\n",
       "    <tr>\n",
       "      <th>Hobong</th>\n",
       "      <th>PLN_grid</th>\n",
       "      <td>179.286821</td>\n",
       "    </tr>\n",
       "    <tr>\n",
       "      <th>Kalio</th>\n",
       "      <th>no_access</th>\n",
       "      <td>1.703929</td>\n",
       "    </tr>\n",
       "    <tr>\n",
       "      <th>Kampung_Baru</th>\n",
       "      <th>no_access</th>\n",
       "      <td>1.565179</td>\n",
       "    </tr>\n",
       "    <tr>\n",
       "      <th>Kensio</th>\n",
       "      <th>community_microgrid</th>\n",
       "      <td>1.083835</td>\n",
       "    </tr>\n",
       "    <tr>\n",
       "      <th>Khageuw</th>\n",
       "      <th>no_access</th>\n",
       "      <td>0.909420</td>\n",
       "    </tr>\n",
       "    <tr>\n",
       "      <th>Khamayakha</th>\n",
       "      <th>PLN_grid</th>\n",
       "      <td>12.515306</td>\n",
       "    </tr>\n",
       "    <tr>\n",
       "      <th>Kheleubulow</th>\n",
       "      <th>PLN_grid</th>\n",
       "      <td>18.714904</td>\n",
       "    </tr>\n",
       "    <tr>\n",
       "      <th>Kwadeware</th>\n",
       "      <th>PLN_grid</th>\n",
       "      <td>10.544405</td>\n",
       "    </tr>\n",
       "    <tr>\n",
       "      <th>Obolyo</th>\n",
       "      <th>no_access</th>\n",
       "      <td>1.730195</td>\n",
       "    </tr>\n",
       "    <tr>\n",
       "      <th>Pantai_Yahim</th>\n",
       "      <th>PLN_grid</th>\n",
       "      <td>10.682967</td>\n",
       "    </tr>\n",
       "    <tr>\n",
       "      <th>Puai</th>\n",
       "      <th>no_access</th>\n",
       "      <td>1.504189</td>\n",
       "    </tr>\n",
       "    <tr>\n",
       "      <th>Simporo</th>\n",
       "      <th>PLN_grid</th>\n",
       "      <td>10.599435</td>\n",
       "    </tr>\n",
       "    <tr>\n",
       "      <th>Sosiri</th>\n",
       "      <th>PLN_grid</th>\n",
       "      <td>4.876376</td>\n",
       "    </tr>\n",
       "    <tr>\n",
       "      <th>Yakonde</th>\n",
       "      <th>PLN_grid</th>\n",
       "      <td>5.436816</td>\n",
       "    </tr>\n",
       "    <tr>\n",
       "      <th>Yobeh</th>\n",
       "      <th>PLN_grid</th>\n",
       "      <td>11.997395</td>\n",
       "    </tr>\n",
       "    <tr>\n",
       "      <th>Yoboi</th>\n",
       "      <th>no_access</th>\n",
       "      <td>1.186429</td>\n",
       "    </tr>\n",
       "    <tr>\n",
       "      <th>Yoka</th>\n",
       "      <th>PLN_grid</th>\n",
       "      <td>11.678929</td>\n",
       "    </tr>\n",
       "    <tr>\n",
       "      <th>Yokiwa</th>\n",
       "      <th>no_access</th>\n",
       "      <td>1.341262</td>\n",
       "    </tr>\n",
       "  </tbody>\n",
       "</table>\n",
       "</div>"
      ],
      "text/plain": [
       "                                  daily_energy_mean\n",
       "village_name access_type                           \n",
       "Abar         no_access                  1740.133168\n",
       "Ajau         PLN_grid                      5.736990\n",
       "Asei         PLN_grid                      7.919039\n",
       "Atamali      community_microgrid           2.935612\n",
       "Ayapo        PLN_microgrid                 2.911036\n",
       "Babrongko    PLN_grid                     79.861301\n",
       "Burawai      PLN_grid                      5.804464\n",
       "Donday       PLN_microgrid                 2.448129\n",
       "Ebunfauw     no_access                     2.271528\n",
       "Evale        PLN_grid                      8.718052\n",
       "Flafow       PLN_grid                      6.974688\n",
       "Hobong       PLN_grid                    179.286821\n",
       "Kalio        no_access                     1.703929\n",
       "Kampung_Baru no_access                     1.565179\n",
       "Kensio       community_microgrid           1.083835\n",
       "Khageuw      no_access                     0.909420\n",
       "Khamayakha   PLN_grid                     12.515306\n",
       "Kheleubulow  PLN_grid                     18.714904\n",
       "Kwadeware    PLN_grid                     10.544405\n",
       "Obolyo       no_access                     1.730195\n",
       "Pantai_Yahim PLN_grid                     10.682967\n",
       "Puai         no_access                     1.504189\n",
       "Simporo      PLN_grid                     10.599435\n",
       "Sosiri       PLN_grid                      4.876376\n",
       "Yakonde      PLN_grid                      5.436816\n",
       "Yobeh        PLN_grid                     11.997395\n",
       "Yoboi        no_access                     1.186429\n",
       "Yoka         PLN_grid                     11.678929\n",
       "Yokiwa       no_access                     1.341262"
      ]
     },
     "execution_count": 7,
     "metadata": {},
     "output_type": "execute_result"
    }
   ],
   "source": [
    "survey.rename(columns={'total_daily_energy': 'daily_energy_mean'},inplace = True)\n",
    "subsurvey = survey[['daily_energy_mean','access_type','village_name']]\n",
    "sort = subsurvey.groupby(['village_name','access_type']).mean()\n",
    "sort"
   ]
  },
  {
   "cell_type": "code",
   "execution_count": 6,
   "metadata": {
    "collapsed": false
   },
   "outputs": [
    {
     "data": {
      "text/html": [
       "<script type=\"text/javascript\">\n",
       "if ($(\"#dg-css\").length == 0){\n",
       "    $(\"head\").append([\n",
       "        \"<link href='/nbextensions/qgridjs/lib/slick.grid.css' rel='stylesheet'>\",\n",
       "        \"<link href='/nbextensions/qgridjs/lib/slick-default-theme.css' rel='stylesheet'>\",\n",
       "        \"<link href='http://cdnjs.cloudflare.com/ajax/libs/jqueryui/1.10.4/css/jquery-ui.min.css' rel='stylesheet'>\",\n",
       "        \"<link id='dg-css' href='/nbextensions/qgridjs/qgrid.css' rel='stylesheet'>\"\n",
       "    ]);\n",
       "}\n",
       "</script>\n",
       "<div class='q-grid-container'>\n",
       "<div id='be6afe62-9595-4448-a2ea-2171a0ef2530' class='q-grid'></div>\n",
       "</div>"
      ]
     },
     "metadata": {},
     "output_type": "display_data"
    },
    {
     "data": {
      "application/javascript": [
       "var path_dictionary = {\n",
       "    jquery_drag: \"/nbextensions/qgridjs/lib/jquery.event.drag-2.2\",\n",
       "    slick_core: \"/nbextensions/qgridjs/lib/slick.core.2.2\",\n",
       "    slick_data_view: \"/nbextensions/qgridjs/lib/slick.dataview.2.2\",\n",
       "    slick_check_box_column: \"/nbextensions/qgridjs/lib/slick.checkboxselectcolumn\",\n",
       "    slick_row_selection_model: \"/nbextensions/qgridjs/lib/slick.rowselectionmodel\",\n",
       "    slick_grid: \"/nbextensions/qgridjs/lib/slick.grid.2.2\",\n",
       "    data_grid: \"/nbextensions/qgridjs/qgrid\",\n",
       "    date_filter: \"/nbextensions/qgridjs/qgrid.datefilter\",\n",
       "    slider_filter: \"/nbextensions/qgridjs/qgrid.sliderfilter\",\n",
       "    text_filter: \"/nbextensions/qgridjs/qgrid.textfilter\",\n",
       "    filter_base:  \"/nbextensions/qgridjs/qgrid.filterbase\",\n",
       "    handlebars: \"https://cdnjs.cloudflare.com/ajax/libs/handlebars.js/2.0.0/handlebars.min\"\n",
       "};\n",
       "\n",
       "var existing_config = require.s.contexts._.config;\n",
       "if (!existing_config.paths['underscore']){\n",
       "    path_dictionary['underscore'] = \"https://cdnjs.cloudflare.com/ajax/libs/underscore.js/1.7.0/underscore-min\";\n",
       "}\n",
       "\n",
       "if (!existing_config.paths['moment']){\n",
       "    path_dictionary['moment'] = \"https://cdnjs.cloudflare.com/ajax/libs/moment.js/2.8.3/moment.min\";\n",
       "}\n",
       "\n",
       "if (!existing_config.paths['jqueryui']){\n",
       "    path_dictionary['jqueryui'] = \"https://ajax.googleapis.com/ajax/libs/jqueryui/1.11.1/jquery-ui.min\";\n",
       "}\n",
       "\n",
       "require.config({\n",
       "    paths: path_dictionary\n",
       "});\n",
       "\n",
       "if (typeof jQuery === 'function') {\n",
       "    define('jquery', function() { return jQuery; });\n",
       "}\n",
       "\n",
       "require([\n",
       "    'jquery',\n",
       "    'jquery_drag',\n",
       "    'slick_core',\n",
       "    'slick_data_view'\n",
       "],\n",
       "function($){\n",
       "    $('#be6afe62-9595-4448-a2ea-2171a0ef2530').closest('.rendered_html').removeClass('rendered_html');\n",
       "    require([\n",
       "      'slick_check_box_column',\n",
       "      'slick_row_selection_model',\n",
       "      'slick_grid'\n",
       "    ], function(){\n",
       "        require([\"data_grid\"], function(dgrid){\n",
       "            var grid = new dgrid.QGrid('#be6afe62-9595-4448-a2ea-2171a0ef2530', [{\"village_name\":\"Abar\",\"access_type\":\"no_access\",\"daily_energy_mean\":1740.133168},{\"village_name\":\"Ajau\",\"access_type\":\"PLN_grid\",\"daily_energy_mean\":5.73699},{\"village_name\":\"Asei\",\"access_type\":\"PLN_grid\",\"daily_energy_mean\":7.919039},{\"village_name\":\"Atamali\",\"access_type\":\"community_microgrid\",\"daily_energy_mean\":2.935612},{\"village_name\":\"Ayapo\",\"access_type\":\"PLN_microgrid\",\"daily_energy_mean\":2.911036},{\"village_name\":\"Babrongko\",\"access_type\":\"PLN_grid\",\"daily_energy_mean\":79.861301},{\"village_name\":\"Burawai\",\"access_type\":\"PLN_grid\",\"daily_energy_mean\":5.804464},{\"village_name\":\"Donday\",\"access_type\":\"PLN_microgrid\",\"daily_energy_mean\":2.448129},{\"village_name\":\"Ebunfauw\",\"access_type\":\"no_access\",\"daily_energy_mean\":2.271528},{\"village_name\":\"Evale\",\"access_type\":\"PLN_grid\",\"daily_energy_mean\":8.718052},{\"village_name\":\"Flafow\",\"access_type\":\"PLN_grid\",\"daily_energy_mean\":6.974688},{\"village_name\":\"Hobong\",\"access_type\":\"PLN_grid\",\"daily_energy_mean\":179.286821},{\"village_name\":\"Kalio\",\"access_type\":\"no_access\",\"daily_energy_mean\":1.703929},{\"village_name\":\"Kampung_Baru\",\"access_type\":\"no_access\",\"daily_energy_mean\":1.565179},{\"village_name\":\"Kensio\",\"access_type\":\"community_microgrid\",\"daily_energy_mean\":1.083835},{\"village_name\":\"Khageuw\",\"access_type\":\"no_access\",\"daily_energy_mean\":0.90942},{\"village_name\":\"Khamayakha\",\"access_type\":\"PLN_grid\",\"daily_energy_mean\":12.515306},{\"village_name\":\"Kheleubulow\",\"access_type\":\"PLN_grid\",\"daily_energy_mean\":18.714904},{\"village_name\":\"Kwadeware\",\"access_type\":\"PLN_grid\",\"daily_energy_mean\":10.544405},{\"village_name\":\"Obolyo\",\"access_type\":\"no_access\",\"daily_energy_mean\":1.730195},{\"village_name\":\"Pantai_Yahim\",\"access_type\":\"PLN_grid\",\"daily_energy_mean\":10.682967},{\"village_name\":\"Puai\",\"access_type\":\"no_access\",\"daily_energy_mean\":1.504189},{\"village_name\":\"Simporo\",\"access_type\":\"PLN_grid\",\"daily_energy_mean\":10.599435},{\"village_name\":\"Sosiri\",\"access_type\":\"PLN_grid\",\"daily_energy_mean\":4.876376},{\"village_name\":\"Yakonde\",\"access_type\":\"PLN_grid\",\"daily_energy_mean\":5.436816},{\"village_name\":\"Yobeh\",\"access_type\":\"PLN_grid\",\"daily_energy_mean\":11.997395},{\"village_name\":\"Yoboi\",\"access_type\":\"no_access\",\"daily_energy_mean\":1.186429},{\"village_name\":\"Yoka\",\"access_type\":\"PLN_grid\",\"daily_energy_mean\":11.678929},{\"village_name\":\"Yokiwa\",\"access_type\":\"no_access\",\"daily_energy_mean\":1.341262}], [{\"field\": \"village_name\"}, {\"field\": \"access_type\"}, {\"type\": \"Float\", \"field\": \"daily_energy_mean\"}]);\n",
       "            grid.initialize_slick_grid({\"fullWidthRows\": true, \"forceFitColumns\": true, \"enableTextSelectionOnCells\": true, \"rowHeight\": 28, \"syncColumnCellResize\": true, \"enableColumnReorder\": false});\n",
       "        });\n",
       "    });\n",
       "});\n"
      ]
     },
     "metadata": {},
     "output_type": "display_data"
    }
   ],
   "source": [
    "import qgrid\n",
    "qgrid.show_grid(sort)"
   ]
  },
  {
   "cell_type": "code",
   "execution_count": null,
   "metadata": {
    "collapsed": true
   },
   "outputs": [],
   "source": []
  }
 ],
 "metadata": {
  "kernelspec": {
   "display_name": "Python 3",
   "language": "python",
   "name": "python3"
  },
  "language_info": {
   "codemirror_mode": {
    "name": "ipython",
    "version": 3
   },
   "file_extension": ".py",
   "mimetype": "text/x-python",
   "name": "python",
   "nbconvert_exporter": "python",
   "pygments_lexer": "ipython3",
   "version": "3.4.4"
  }
 },
 "nbformat": 4,
 "nbformat_minor": 0
}
