{
 "cells": [
  {
   "cell_type": "code",
   "execution_count": 1,
   "metadata": {
    "collapsed": true
   },
   "outputs": [],
   "source": [
    "%matplotlib inline\n",
    "import matplotlib.pyplot as plt\n",
    "import seaborn as sns\n",
    "import pandas as pd\n",
    "import numpy as np\n",
    "import pysentani as sti"
   ]
  },
  {
   "cell_type": "code",
   "execution_count": 2,
   "metadata": {
    "collapsed": true
   },
   "outputs": [],
   "source": [
    "survey = pd.read_excel('../data-anonymous/sentani-merged-cleaned-anonymous-2014-11-29.xlsx')\n",
    "# pysentani access type function\n",
    "survey['access_type'] = sti.access_type(survey)\n",
    "# selecting columns to analyze\n",
    "survey = survey[['app_now/rice_cooker',\n",
    "                 'app_now/TV',\n",
    "                 'app_now/fridge',\n",
    "                 'app_now/fan',\n",
    "                 'app_now/lighting',\n",
    "                 'app_now/radio',\n",
    "                 'app_buy/rice_cooker',\n",
    "                 'app_buy/TV',\n",
    "                 'app_buy/fridge',\n",
    "                 'app_buy/fan',\n",
    "                 'app_buy/lighting',\n",
    "                 'app_buy/radio',\n",
    "                 'access_type',]]\n",
    "# dropping all NaN values for above columns\n",
    "survey = survey.dropna()"
   ]
  },
  {
   "cell_type": "code",
   "execution_count": 3,
   "metadata": {
    "collapsed": false
   },
   "outputs": [],
   "source": [
    "# renaming subcategories of Access Type\n",
    "survey.replace(to_replace = {'access_type': {'PLN_grid': 'PLN Grid',\n",
    "                                             'community_microgrid': 'Community Microgrid',\n",
    "                                             'PLN_microgrid': 'PLN Microgrid',\n",
    "                                             'no_access': 'No Access'}},inplace = True)\n",
    "\n",
    "survey.rename(columns={'app_now/rice_cooker': 'app_now/Rice Cooker',\n",
    "                       'app_now/TV': 'app_now/TV',\n",
    "                       'app_now/fridge': 'app_now/Fridge',\n",
    "                       'app_now/fan':'app_now/Fan',\n",
    "                       'app_now/lighting': 'app_now/Lighting',\n",
    "                       'app_now/radio': 'app_now/Radio',\n",
    "                       'app_buy/rice_cooker': 'app_buy/Rice Cooker',\n",
    "                       'app_buy/TV': 'app_buy/TV',\n",
    "                       'app_buy/fridge': 'app_buy/Fridge',\n",
    "                       'app_buy/fan':'app_buy/Fan',\n",
    "                       'app_buy/lighting': 'app_buy/Lighting',\n",
    "                       'app_buy/radio': 'app_buy/Radio',\n",
    "                       'access_type': 'Access Type'},\n",
    "                                 inplace = True)\n",
    "\n"
   ]
  },
  {
   "cell_type": "code",
   "execution_count": 4,
   "metadata": {
    "collapsed": false
   },
   "outputs": [],
   "source": [
    "def calc_willingness(survey, appliance):\n",
    "    app_now_appliance = 'app_now/' + appliance\n",
    "    app_buy_appliance = 'app_buy/' + appliance\n",
    "    survey[appliance] = ~survey[app_now_appliance].astype(bool) & survey[app_buy_appliance].astype(bool)\n",
    "    \n",
    "appliance_list = ['TV', 'Lighting', 'Radio', 'Rice Cooker', 'Fridge', 'Fan' ]\n",
    "\n",
    "# Creating variable with for loop adding each from appliance_list to calc_willingess function\n",
    "WBlist = []\n",
    "for appliance in appliance_list:\n",
    "    calc_willingness(survey, appliance)\n",
    "    WBlist.append(appliance)"
   ]
  },
  {
   "cell_type": "code",
   "execution_count": 15,
   "metadata": {
    "collapsed": false
   },
   "outputs": [
    {
     "data": {
      "text/plain": [
       "MultiIndex(levels=[['Community Microgrid', 'No Access', 'PLN Grid', 'PLN Microgrid'], ['TV', 'Lighting', 'Radio', 'Rice Cooker', 'Fridge', 'Fan']],\n",
       "           labels=[[0, 0, 0, 0, 0, 0, 1, 1, 1, 1, 1, 1, 2, 2, 2, 2, 2, 2, 3, 3, 3, 3, 3, 3], [0, 1, 2, 3, 4, 5, 0, 1, 2, 3, 4, 5, 0, 1, 2, 3, 4, 5, 0, 1, 2, 3, 4, 5]],\n",
       "           names=['Access Type', None])"
      ]
     },
     "execution_count": 15,
     "metadata": {},
     "output_type": "execute_result"
    }
   ],
   "source": [
    "subsurvey_now = survey[['Access Type',\n",
    "                    'TV','Lighting','Radio',\n",
    "                    'Rice Cooker','Fridge','Fan']]\n",
    "analyzed_now = subsurvey_now.groupby('Access Type').mean()\n",
    "#analyzed_now['Access Type'] = analyzed_now.index \n",
    "analyzed_now_multiindex = analyzed_now.stack()\n",
    "analyzed_now_multiindex.index"
   ]
  },
  {
   "cell_type": "code",
   "execution_count": 16,
   "metadata": {
    "collapsed": false
   },
   "outputs": [
    {
     "data": {
      "text/plain": [
       "MultiIndex(levels=[['Community Microgrid', 'No Access', 'PLN Grid', 'PLN Microgrid'], ['TV', 'Lighting', 'Radio', 'Rice Cooker', 'Fridge', 'Fan']],\n",
       "           labels=[[0, 0, 0, 0, 0, 0, 1, 1, 1, 1, 1, 1, 2, 2, 2, 2, 2, 2, 3, 3, 3, 3, 3, 3], [0, 1, 2, 3, 4, 5, 0, 1, 2, 3, 4, 5, 0, 1, 2, 3, 4, 5, 0, 1, 2, 3, 4, 5]],\n",
       "           names=['Access Type', None])"
      ]
     },
     "execution_count": 16,
     "metadata": {},
     "output_type": "execute_result"
    }
   ],
   "source": [
    "# new dataframe classifying WBlist by access type\n",
    "subsurvey_buy = survey[['Access Type'] + WBlist]\n",
    "analyzed_buy = subsurvey_buy.groupby('Access Type').mean()\n",
    "#analyzed_buy['Access Type'] = analyzed_buy.index \n",
    "analyzed_buy_multiindex = analyzed_buy.stack()\n",
    "analyzed_buy_multiindex.index"
   ]
  },
  {
   "cell_type": "code",
   "execution_count": 18,
   "metadata": {
    "collapsed": false
   },
   "outputs": [],
   "source": [
    "future_electrification = analyzed_buy_multiindex + analyzed_now_multiindex "
   ]
  },
  {
   "cell_type": "code",
   "execution_count": 23,
   "metadata": {
    "collapsed": false
   },
   "outputs": [
    {
     "data": {
      "text/plain": [
       "Access Type                     \n",
       "Community Microgrid  TV             0.133333\n",
       "                     Lighting       0.044444\n",
       "                     Radio          0.311111\n",
       "                     Rice Cooker    0.711111\n",
       "                     Fridge         0.800000\n",
       "                     Fan            0.711111\n",
       "No Access            TV             0.285714\n",
       "                     Lighting       0.010989\n",
       "                     Radio          0.307692\n",
       "                     Rice Cooker    0.549451\n",
       "                     Fridge         0.945055\n",
       "                     Fan            0.483516\n",
       "PLN Grid             TV             0.292566\n",
       "                     Lighting       0.019185\n",
       "                     Radio          0.100719\n",
       "                     Rice Cooker    0.446043\n",
       "                     Fridge         0.997602\n",
       "                     Fan            0.326139\n",
       "PLN Microgrid        TV             0.243478\n",
       "                     Lighting       0.000000\n",
       "                     Radio          0.104348\n",
       "                     Rice Cooker    0.382609\n",
       "                     Fridge         0.382609\n",
       "                     Fan            0.156522\n",
       "dtype: float64"
      ]
     },
     "execution_count": 23,
     "metadata": {},
     "output_type": "execute_result"
    }
   ],
   "source": [
    "future_electrification"
   ]
  },
  {
   "cell_type": "code",
   "execution_count": null,
   "metadata": {
    "collapsed": true
   },
   "outputs": [],
   "source": []
  }
 ],
 "metadata": {
  "kernelspec": {
   "display_name": "Python 3",
   "language": "python",
   "name": "python3"
  },
  "language_info": {
   "codemirror_mode": {
    "name": "ipython",
    "version": 3
   },
   "file_extension": ".py",
   "mimetype": "text/x-python",
   "name": "python",
   "nbconvert_exporter": "python",
   "pygments_lexer": "ipython3",
   "version": "3.4.3"
  }
 },
 "nbformat": 4,
 "nbformat_minor": 0
}
