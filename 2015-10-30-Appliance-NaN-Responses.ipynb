{
 "cells": [
  {
   "cell_type": "code",
   "execution_count": 1,
   "metadata": {
    "collapsed": true
   },
   "outputs": [],
   "source": [
    "%matplotlib inline\n",
    "import matplotlib.pyplot as plt\n",
    "import seaborn as sns\n",
    "import pandas as pd\n",
    "import numpy as np\n",
    "import pysentani as sti"
   ]
  },
  {
   "cell_type": "code",
   "execution_count": 2,
   "metadata": {
    "collapsed": true
   },
   "outputs": [],
   "source": [
    "survey = pd.read_excel('../data-anonymous/sentani-merged-cleaned-anonymous-2014-11-29.xlsx')"
   ]
  },
  {
   "cell_type": "code",
   "execution_count": 3,
   "metadata": {
    "collapsed": true
   },
   "outputs": [],
   "source": [
    "# pysentani access type function\n",
    "survey['access_type'] = sti.access_type(survey)"
   ]
  },
  {
   "cell_type": "code",
   "execution_count": 4,
   "metadata": {
    "collapsed": false
   },
   "outputs": [
    {
     "data": {
      "text/plain": [
       "0     True\n",
       "1    False\n",
       "2     True\n",
       "dtype: bool"
      ]
     },
     "execution_count": 4,
     "metadata": {},
     "output_type": "execute_result"
    }
   ],
   "source": [
    "test = pd.Series([True, False, np.nan]).astype(bool)\n",
    "test"
   ]
  },
  {
   "cell_type": "markdown",
   "metadata": {},
   "source": [
    "##fridge\n",
    "* omitting access type to view raw data in each category"
   ]
  },
  {
   "cell_type": "code",
   "execution_count": 54,
   "metadata": {
    "collapsed": false
   },
   "outputs": [
    {
     "data": {
      "text/html": [
       "<div>\n",
       "<table border=\"1\" class=\"dataframe\">\n",
       "  <thead>\n",
       "    <tr style=\"text-align: right;\">\n",
       "      <th>app_now/fridge</th>\n",
       "      <th>0.0</th>\n",
       "      <th>1.0</th>\n",
       "      <th>no response</th>\n",
       "    </tr>\n",
       "  </thead>\n",
       "  <tbody>\n",
       "    <tr>\n",
       "      <th>dummy</th>\n",
       "      <td>837</td>\n",
       "      <td>198</td>\n",
       "      <td>149</td>\n",
       "    </tr>\n",
       "  </tbody>\n",
       "</table>\n",
       "</div>"
      ],
      "text/plain": [
       "app_now/fridge  0.0  1.0  no response\n",
       "dummy           837  198          149"
      ]
     },
     "execution_count": 54,
     "metadata": {},
     "output_type": "execute_result"
    }
   ],
   "source": [
    "#this is the count for each response  in app_now fridge\n",
    "now_fridge = survey[['app_now/fridge']].fillna('no response')\n",
    "now_fridge['dummy'] = now_fridge['app_now/fridge'].astype(bool)\n",
    "now_fridge.groupby(['app_now/fridge']).count().transpose()"
   ]
  },
  {
   "cell_type": "code",
   "execution_count": 66,
   "metadata": {
    "collapsed": false
   },
   "outputs": [
    {
     "data": {
      "text/html": [
       "<div>\n",
       "<table border=\"1\" class=\"dataframe\">\n",
       "  <thead>\n",
       "    <tr style=\"text-align: right;\">\n",
       "      <th>app_buy/fridge</th>\n",
       "      <th>0.0</th>\n",
       "      <th>1.0</th>\n",
       "      <th>no response</th>\n",
       "    </tr>\n",
       "  </thead>\n",
       "  <tbody>\n",
       "    <tr>\n",
       "      <th>dummy</th>\n",
       "      <td>427</td>\n",
       "      <td>371</td>\n",
       "      <td>386</td>\n",
       "    </tr>\n",
       "  </tbody>\n",
       "</table>\n",
       "</div>"
      ],
      "text/plain": [
       "app_buy/fridge  0.0  1.0  no response\n",
       "dummy           427  371          386"
      ]
     },
     "execution_count": 66,
     "metadata": {},
     "output_type": "execute_result"
    }
   ],
   "source": [
    "#this is the count for each response  in app_buy fridge\n",
    "buy_fridge = survey[['app_buy/fridge']].fillna('no response')\n",
    "buy_fridge['dummy'] = buy_fridge['app_buy/fridge'].astype(bool)\n",
    "buy_fridge.groupby(['app_buy/fridge']).count().transpose()"
   ]
  },
  {
   "cell_type": "markdown",
   "metadata": {},
   "source": [
    "The first two cells below show different combinations of responses. These both seem plausible because the amount of respondents wanting to buy has a max value of 371."
   ]
  },
  {
   "cell_type": "code",
   "execution_count": 63,
   "metadata": {
    "collapsed": false
   },
   "outputs": [
    {
     "data": {
      "text/plain": [
       "False    850\n",
       "True     334\n",
       "dtype: int64"
      ]
     },
     "execution_count": 63,
     "metadata": {},
     "output_type": "execute_result"
    }
   ],
   "source": [
    "# app not owned = true(na's are originally true (~)then they become false)\n",
    "# app want to buy= true, na's are false\n",
    "fridge_var = ~survey['app_now/fridge'].astype(bool) & survey['app_buy/fridge'].fillna(0).astype(bool)\n",
    "fridge_var.value_counts()"
   ]
  },
  {
   "cell_type": "code",
   "execution_count": 64,
   "metadata": {
    "collapsed": false
   },
   "outputs": [
    {
     "data": {
      "text/plain": [
       "False    841\n",
       "True     343\n",
       "dtype: int64"
      ]
     },
     "execution_count": 64,
     "metadata": {},
     "output_type": "execute_result"
    }
   ],
   "source": [
    "# app not owned = true(na's treated as false become true)\n",
    "# app want to buy = true (na's are false)\n",
    "fridge_var1 = ~survey['app_now/fridge'].fillna(0).astype(bool) & survey['app_buy/fridge'].fillna(0).astype(bool)\n",
    "fridge_var1.value_counts()"
   ]
  },
  {
   "cell_type": "markdown",
   "metadata": {},
   "source": [
    "549 > than 371 therfore impossible."
   ]
  },
  {
   "cell_type": "code",
   "execution_count": 65,
   "metadata": {
    "collapsed": false
   },
   "outputs": [
    {
     "data": {
      "text/plain": [
       "False    635\n",
       "True     549\n",
       "dtype: int64"
      ]
     },
     "execution_count": 65,
     "metadata": {},
     "output_type": "execute_result"
    }
   ],
   "source": [
    "#if app not owned = true (na's ignored become false)\n",
    "#if app want to buy = (true na's are also true)\n",
    "fridge_var2 = ~survey['app_now/fridge'].astype(bool) & survey['app_buy/fridge'].astype(bool)\n",
    "fridge_var2.value_counts()"
   ]
  },
  {
   "cell_type": "markdown",
   "metadata": {},
   "source": [
    "##Fan"
   ]
  },
  {
   "cell_type": "code",
   "execution_count": 58,
   "metadata": {
    "collapsed": false
   },
   "outputs": [
    {
     "data": {
      "text/html": [
       "<div>\n",
       "<table border=\"1\" class=\"dataframe\">\n",
       "  <thead>\n",
       "    <tr style=\"text-align: right;\">\n",
       "      <th>app_now/fan</th>\n",
       "      <th>0.0</th>\n",
       "      <th>1.0</th>\n",
       "      <th>no response</th>\n",
       "    </tr>\n",
       "  </thead>\n",
       "  <tbody>\n",
       "    <tr>\n",
       "      <th>dummy</th>\n",
       "      <td>905</td>\n",
       "      <td>130</td>\n",
       "      <td>149</td>\n",
       "    </tr>\n",
       "  </tbody>\n",
       "</table>\n",
       "</div>"
      ],
      "text/plain": [
       "app_now/fan  0.0  1.0  no response\n",
       "dummy        905  130          149"
      ]
     },
     "execution_count": 58,
     "metadata": {},
     "output_type": "execute_result"
    }
   ],
   "source": [
    "now_fan = survey[['app_now/fan']].fillna('no response')\n",
    "now_fan['dummy'] = now_fan['app_now/fan'].astype(bool)\n",
    "now_fan.groupby(['app_now/fan']).count().transpose()"
   ]
  },
  {
   "cell_type": "code",
   "execution_count": 59,
   "metadata": {
    "collapsed": false
   },
   "outputs": [
    {
     "data": {
      "text/html": [
       "<div>\n",
       "<table border=\"1\" class=\"dataframe\">\n",
       "  <thead>\n",
       "    <tr style=\"text-align: right;\">\n",
       "      <th>app_buy/fan</th>\n",
       "      <th>0.0</th>\n",
       "      <th>1.0</th>\n",
       "      <th>no response</th>\n",
       "    </tr>\n",
       "  </thead>\n",
       "  <tbody>\n",
       "    <tr>\n",
       "      <th>dummy</th>\n",
       "      <td>647</td>\n",
       "      <td>151</td>\n",
       "      <td>386</td>\n",
       "    </tr>\n",
       "  </tbody>\n",
       "</table>\n",
       "</div>"
      ],
      "text/plain": [
       "app_buy/fan  0.0  1.0  no response\n",
       "dummy        647  151          386"
      ]
     },
     "execution_count": 59,
     "metadata": {},
     "output_type": "execute_result"
    }
   ],
   "source": [
    "buy_fan= survey[['app_buy/fan']].fillna('no response')\n",
    "buy_fan['dummy'] = buy_fan['app_buy/fan'].astype(bool)\n",
    "buy_fan.groupby(['app_buy/fan']).count().transpose()"
   ]
  },
  {
   "cell_type": "markdown",
   "metadata": {},
   "source": [
    "##TV"
   ]
  },
  {
   "cell_type": "code",
   "execution_count": 13,
   "metadata": {
    "collapsed": false
   },
   "outputs": [
    {
     "data": {
      "text/html": [
       "<div>\n",
       "<table border=\"1\" class=\"dataframe\">\n",
       "  <thead>\n",
       "    <tr>\n",
       "      <th>access_type</th>\n",
       "      <th colspan=\"3\" halign=\"left\">PLN_grid</th>\n",
       "      <th colspan=\"3\" halign=\"left\">PLN_microgrid</th>\n",
       "      <th colspan=\"3\" halign=\"left\">community_microgrid</th>\n",
       "      <th colspan=\"3\" halign=\"left\">no_access</th>\n",
       "    </tr>\n",
       "    <tr>\n",
       "      <th>app_now/TV</th>\n",
       "      <th>0.0</th>\n",
       "      <th>1.0</th>\n",
       "      <th>no response</th>\n",
       "      <th>0.0</th>\n",
       "      <th>1.0</th>\n",
       "      <th>no response</th>\n",
       "      <th>0.0</th>\n",
       "      <th>1.0</th>\n",
       "      <th>no response</th>\n",
       "      <th>0.0</th>\n",
       "      <th>1.0</th>\n",
       "      <th>no response</th>\n",
       "    </tr>\n",
       "  </thead>\n",
       "  <tbody>\n",
       "    <tr>\n",
       "      <th>dummy</th>\n",
       "      <td>105</td>\n",
       "      <td>463</td>\n",
       "      <td>51</td>\n",
       "      <td>30</td>\n",
       "      <td>128</td>\n",
       "      <td>12</td>\n",
       "      <td>4</td>\n",
       "      <td>48</td>\n",
       "      <td>2</td>\n",
       "      <td>52</td>\n",
       "      <td>205</td>\n",
       "      <td>84</td>\n",
       "    </tr>\n",
       "  </tbody>\n",
       "</table>\n",
       "</div>"
      ],
      "text/plain": [
       "access_type PLN_grid                  PLN_microgrid                   \\\n",
       "app_now/TV       0.0  1.0 no response           0.0  1.0 no response   \n",
       "dummy            105  463          51            30  128          12   \n",
       "\n",
       "access_type community_microgrid                 no_access                   \n",
       "app_now/TV                  0.0 1.0 no response       0.0  1.0 no response  \n",
       "dummy                         4  48           2        52  205          84  "
      ]
     },
     "execution_count": 13,
     "metadata": {},
     "output_type": "execute_result"
    }
   ],
   "source": [
    "now_TV = survey[['access_type', 'app_now/TV']].fillna('no response')\n",
    "now_TV['dummy'] = now_TV['app_now/TV'].astype(bool)\n",
    "now_TV.groupby(['access_type', 'app_now/TV']).count().transpose()"
   ]
  },
  {
   "cell_type": "code",
   "execution_count": 7,
   "metadata": {
    "collapsed": false
   },
   "outputs": [
    {
     "data": {
      "text/html": [
       "<div>\n",
       "<table border=\"1\" class=\"dataframe\">\n",
       "  <thead>\n",
       "    <tr>\n",
       "      <th>access_type</th>\n",
       "      <th colspan=\"3\" halign=\"left\">PLN_grid</th>\n",
       "      <th colspan=\"3\" halign=\"left\">PLN_microgrid</th>\n",
       "      <th colspan=\"3\" halign=\"left\">community_microgrid</th>\n",
       "      <th colspan=\"3\" halign=\"left\">no_access</th>\n",
       "    </tr>\n",
       "    <tr>\n",
       "      <th>app_buy/TV</th>\n",
       "      <th>0.0</th>\n",
       "      <th>1.0</th>\n",
       "      <th>no response</th>\n",
       "      <th>0.0</th>\n",
       "      <th>1.0</th>\n",
       "      <th>no response</th>\n",
       "      <th>0.0</th>\n",
       "      <th>1.0</th>\n",
       "      <th>no response</th>\n",
       "      <th>0.0</th>\n",
       "      <th>1.0</th>\n",
       "      <th>no response</th>\n",
       "    </tr>\n",
       "  </thead>\n",
       "  <tbody>\n",
       "    <tr>\n",
       "      <th>dummy</th>\n",
       "      <td>339</td>\n",
       "      <td>87</td>\n",
       "      <td>193</td>\n",
       "      <td>99</td>\n",
       "      <td>18</td>\n",
       "      <td>53</td>\n",
       "      <td>30</td>\n",
       "      <td>16</td>\n",
       "      <td>8</td>\n",
       "      <td>146</td>\n",
       "      <td>63</td>\n",
       "      <td>132</td>\n",
       "    </tr>\n",
       "  </tbody>\n",
       "</table>\n",
       "</div>"
      ],
      "text/plain": [
       "access_type PLN_grid                 PLN_microgrid                  \\\n",
       "app_buy/TV       0.0 1.0 no response           0.0 1.0 no response   \n",
       "dummy            339  87         193            99  18          53   \n",
       "\n",
       "access_type community_microgrid                 no_access                  \n",
       "app_buy/TV                  0.0 1.0 no response       0.0 1.0 no response  \n",
       "dummy                        30  16           8       146  63         132  "
      ]
     },
     "execution_count": 7,
     "metadata": {},
     "output_type": "execute_result"
    }
   ],
   "source": [
    "buy_TV = survey[['access_type', 'app_buy/TV']].fillna('no response')\n",
    "buy_TV['dummy'] = buy_TV['app_buy/TV'].astype(bool)\n",
    "buy_TV.groupby(['access_type', 'app_buy/TV']).count().transpose()"
   ]
  },
  {
   "cell_type": "markdown",
   "metadata": {},
   "source": [
    "##radio"
   ]
  },
  {
   "cell_type": "code",
   "execution_count": 14,
   "metadata": {
    "collapsed": false
   },
   "outputs": [
    {
     "data": {
      "text/html": [
       "<div>\n",
       "<table border=\"1\" class=\"dataframe\">\n",
       "  <thead>\n",
       "    <tr>\n",
       "      <th>access_type</th>\n",
       "      <th colspan=\"3\" halign=\"left\">PLN_grid</th>\n",
       "      <th colspan=\"3\" halign=\"left\">PLN_microgrid</th>\n",
       "      <th colspan=\"3\" halign=\"left\">community_microgrid</th>\n",
       "      <th colspan=\"3\" halign=\"left\">no_access</th>\n",
       "    </tr>\n",
       "    <tr>\n",
       "      <th>app_now/radio</th>\n",
       "      <th>0.0</th>\n",
       "      <th>1.0</th>\n",
       "      <th>no response</th>\n",
       "      <th>0.0</th>\n",
       "      <th>1.0</th>\n",
       "      <th>no response</th>\n",
       "      <th>0.0</th>\n",
       "      <th>1.0</th>\n",
       "      <th>no response</th>\n",
       "      <th>0.0</th>\n",
       "      <th>1.0</th>\n",
       "      <th>no response</th>\n",
       "    </tr>\n",
       "  </thead>\n",
       "  <tbody>\n",
       "    <tr>\n",
       "      <th>dummy</th>\n",
       "      <td>397</td>\n",
       "      <td>171</td>\n",
       "      <td>51</td>\n",
       "      <td>114</td>\n",
       "      <td>44</td>\n",
       "      <td>12</td>\n",
       "      <td>26</td>\n",
       "      <td>26</td>\n",
       "      <td>2</td>\n",
       "      <td>146</td>\n",
       "      <td>111</td>\n",
       "      <td>84</td>\n",
       "    </tr>\n",
       "  </tbody>\n",
       "</table>\n",
       "</div>"
      ],
      "text/plain": [
       "access_type   PLN_grid                  PLN_microgrid                  \\\n",
       "app_now/radio      0.0  1.0 no response           0.0 1.0 no response   \n",
       "dummy              397  171          51           114  44          12   \n",
       "\n",
       "access_type   community_microgrid                 no_access                   \n",
       "app_now/radio                 0.0 1.0 no response       0.0  1.0 no response  \n",
       "dummy                          26  26           2       146  111          84  "
      ]
     },
     "execution_count": 14,
     "metadata": {},
     "output_type": "execute_result"
    }
   ],
   "source": [
    "now_radio = survey[['access_type', 'app_now/radio']].fillna('no response')\n",
    "now_radio['dummy'] = now_radio['app_now/radio'].astype(bool)\n",
    "now_radio.groupby(['access_type', 'app_now/radio']).count().transpose()"
   ]
  },
  {
   "cell_type": "code",
   "execution_count": 8,
   "metadata": {
    "collapsed": false
   },
   "outputs": [
    {
     "data": {
      "text/html": [
       "<div>\n",
       "<table border=\"1\" class=\"dataframe\">\n",
       "  <thead>\n",
       "    <tr>\n",
       "      <th>access_type</th>\n",
       "      <th colspan=\"3\" halign=\"left\">PLN_grid</th>\n",
       "      <th colspan=\"3\" halign=\"left\">PLN_microgrid</th>\n",
       "      <th colspan=\"3\" halign=\"left\">community_microgrid</th>\n",
       "      <th colspan=\"3\" halign=\"left\">no_access</th>\n",
       "    </tr>\n",
       "    <tr>\n",
       "      <th>app_buy/radio</th>\n",
       "      <th>0.0</th>\n",
       "      <th>1.0</th>\n",
       "      <th>no response</th>\n",
       "      <th>0.0</th>\n",
       "      <th>1.0</th>\n",
       "      <th>no response</th>\n",
       "      <th>0.0</th>\n",
       "      <th>1.0</th>\n",
       "      <th>no response</th>\n",
       "      <th>0.0</th>\n",
       "      <th>1.0</th>\n",
       "      <th>no response</th>\n",
       "    </tr>\n",
       "  </thead>\n",
       "  <tbody>\n",
       "    <tr>\n",
       "      <th>dummy</th>\n",
       "      <td>395</td>\n",
       "      <td>31</td>\n",
       "      <td>193</td>\n",
       "      <td>110</td>\n",
       "      <td>7</td>\n",
       "      <td>53</td>\n",
       "      <td>32</td>\n",
       "      <td>14</td>\n",
       "      <td>8</td>\n",
       "      <td>159</td>\n",
       "      <td>50</td>\n",
       "      <td>132</td>\n",
       "    </tr>\n",
       "  </tbody>\n",
       "</table>\n",
       "</div>"
      ],
      "text/plain": [
       "access_type   PLN_grid                 PLN_microgrid                  \\\n",
       "app_buy/radio      0.0 1.0 no response           0.0 1.0 no response   \n",
       "dummy              395  31         193           110   7          53   \n",
       "\n",
       "access_type   community_microgrid                 no_access                  \n",
       "app_buy/radio                 0.0 1.0 no response       0.0 1.0 no response  \n",
       "dummy                          32  14           8       159  50         132  "
      ]
     },
     "execution_count": 8,
     "metadata": {},
     "output_type": "execute_result"
    }
   ],
   "source": [
    "buy_radio = survey[['access_type', 'app_buy/radio']].fillna('no response')\n",
    "buy_radio['dummy'] = buy_radio['app_buy/radio'].astype(bool)\n",
    "buy_radio.groupby(['access_type', 'app_buy/radio']).count().transpose()"
   ]
  },
  {
   "cell_type": "markdown",
   "metadata": {},
   "source": [
    "##rice_cooker"
   ]
  },
  {
   "cell_type": "code",
   "execution_count": 15,
   "metadata": {
    "collapsed": false
   },
   "outputs": [
    {
     "data": {
      "text/html": [
       "<div>\n",
       "<table border=\"1\" class=\"dataframe\">\n",
       "  <thead>\n",
       "    <tr>\n",
       "      <th>access_type</th>\n",
       "      <th colspan=\"3\" halign=\"left\">PLN_grid</th>\n",
       "      <th colspan=\"3\" halign=\"left\">PLN_microgrid</th>\n",
       "      <th colspan=\"3\" halign=\"left\">community_microgrid</th>\n",
       "      <th colspan=\"3\" halign=\"left\">no_access</th>\n",
       "    </tr>\n",
       "    <tr>\n",
       "      <th>app_now/rice_cooker</th>\n",
       "      <th>0.0</th>\n",
       "      <th>1.0</th>\n",
       "      <th>no response</th>\n",
       "      <th>0.0</th>\n",
       "      <th>1.0</th>\n",
       "      <th>no response</th>\n",
       "      <th>0.0</th>\n",
       "      <th>1.0</th>\n",
       "      <th>no response</th>\n",
       "      <th>0.0</th>\n",
       "      <th>1.0</th>\n",
       "      <th>no response</th>\n",
       "    </tr>\n",
       "  </thead>\n",
       "  <tbody>\n",
       "    <tr>\n",
       "      <th>dummy</th>\n",
       "      <td>411</td>\n",
       "      <td>157</td>\n",
       "      <td>51</td>\n",
       "      <td>156</td>\n",
       "      <td>2</td>\n",
       "      <td>12</td>\n",
       "      <td>45</td>\n",
       "      <td>7</td>\n",
       "      <td>2</td>\n",
       "      <td>249</td>\n",
       "      <td>8</td>\n",
       "      <td>84</td>\n",
       "    </tr>\n",
       "  </tbody>\n",
       "</table>\n",
       "</div>"
      ],
      "text/plain": [
       "access_type         PLN_grid                  PLN_microgrid                  \\\n",
       "app_now/rice_cooker      0.0  1.0 no response           0.0 1.0 no response   \n",
       "dummy                    411  157          51           156   2          12   \n",
       "\n",
       "access_type         community_microgrid                 no_access      \\\n",
       "app_now/rice_cooker                 0.0 1.0 no response       0.0 1.0   \n",
       "dummy                                45   7           2       249   8   \n",
       "\n",
       "access_type                      \n",
       "app_now/rice_cooker no response  \n",
       "dummy                        84  "
      ]
     },
     "execution_count": 15,
     "metadata": {},
     "output_type": "execute_result"
    }
   ],
   "source": [
    "now_rc = survey[['access_type', 'app_now/rice_cooker']].fillna('no response')\n",
    "now_rc['dummy'] = now_rc['app_now/rice_cooker'].astype(bool)\n",
    "now_rc.groupby(['access_type', 'app_now/rice_cooker']).count().transpose()"
   ]
  },
  {
   "cell_type": "code",
   "execution_count": 9,
   "metadata": {
    "collapsed": false
   },
   "outputs": [
    {
     "data": {
      "text/html": [
       "<div>\n",
       "<table border=\"1\" class=\"dataframe\">\n",
       "  <thead>\n",
       "    <tr>\n",
       "      <th>access_type</th>\n",
       "      <th colspan=\"3\" halign=\"left\">PLN_grid</th>\n",
       "      <th colspan=\"3\" halign=\"left\">PLN_microgrid</th>\n",
       "      <th colspan=\"3\" halign=\"left\">community_microgrid</th>\n",
       "      <th colspan=\"3\" halign=\"left\">no_access</th>\n",
       "    </tr>\n",
       "    <tr>\n",
       "      <th>app_buy/rice_cooker</th>\n",
       "      <th>0.0</th>\n",
       "      <th>1.0</th>\n",
       "      <th>no response</th>\n",
       "      <th>0.0</th>\n",
       "      <th>1.0</th>\n",
       "      <th>no response</th>\n",
       "      <th>0.0</th>\n",
       "      <th>1.0</th>\n",
       "      <th>no response</th>\n",
       "      <th>0.0</th>\n",
       "      <th>1.0</th>\n",
       "      <th>no response</th>\n",
       "    </tr>\n",
       "  </thead>\n",
       "  <tbody>\n",
       "    <tr>\n",
       "      <th>dummy</th>\n",
       "      <td>326</td>\n",
       "      <td>100</td>\n",
       "      <td>193</td>\n",
       "      <td>95</td>\n",
       "      <td>22</td>\n",
       "      <td>53</td>\n",
       "      <td>29</td>\n",
       "      <td>17</td>\n",
       "      <td>8</td>\n",
       "      <td>156</td>\n",
       "      <td>53</td>\n",
       "      <td>132</td>\n",
       "    </tr>\n",
       "  </tbody>\n",
       "</table>\n",
       "</div>"
      ],
      "text/plain": [
       "access_type         PLN_grid                  PLN_microgrid                  \\\n",
       "app_buy/rice_cooker      0.0  1.0 no response           0.0 1.0 no response   \n",
       "dummy                    326  100         193            95  22          53   \n",
       "\n",
       "access_type         community_microgrid                 no_access      \\\n",
       "app_buy/rice_cooker                 0.0 1.0 no response       0.0 1.0   \n",
       "dummy                                29  17           8       156  53   \n",
       "\n",
       "access_type                      \n",
       "app_buy/rice_cooker no response  \n",
       "dummy                       132  "
      ]
     },
     "execution_count": 9,
     "metadata": {},
     "output_type": "execute_result"
    }
   ],
   "source": [
    "buy_rc = survey[['access_type', 'app_buy/rice_cooker']].fillna('no response')\n",
    "buy_rc['dummy'] = buy_rc['app_buy/rice_cooker'].astype(bool)\n",
    "buy_rc.groupby(['access_type', 'app_buy/rice_cooker']).count().transpose()"
   ]
  },
  {
   "cell_type": "markdown",
   "metadata": {},
   "source": [
    "##lighting"
   ]
  },
  {
   "cell_type": "code",
   "execution_count": 16,
   "metadata": {
    "collapsed": false
   },
   "outputs": [
    {
     "data": {
      "text/html": [
       "<div>\n",
       "<table border=\"1\" class=\"dataframe\">\n",
       "  <thead>\n",
       "    <tr>\n",
       "      <th>access_type</th>\n",
       "      <th colspan=\"3\" halign=\"left\">PLN_grid</th>\n",
       "      <th colspan=\"3\" halign=\"left\">PLN_microgrid</th>\n",
       "      <th colspan=\"3\" halign=\"left\">community_microgrid</th>\n",
       "      <th colspan=\"3\" halign=\"left\">no_access</th>\n",
       "    </tr>\n",
       "    <tr>\n",
       "      <th>app_now/lighting</th>\n",
       "      <th>0.0</th>\n",
       "      <th>1.0</th>\n",
       "      <th>no response</th>\n",
       "      <th>0.0</th>\n",
       "      <th>1.0</th>\n",
       "      <th>no response</th>\n",
       "      <th>0.0</th>\n",
       "      <th>1.0</th>\n",
       "      <th>no response</th>\n",
       "      <th>0.0</th>\n",
       "      <th>1.0</th>\n",
       "      <th>no response</th>\n",
       "    </tr>\n",
       "  </thead>\n",
       "  <tbody>\n",
       "    <tr>\n",
       "      <th>dummy</th>\n",
       "      <td>39</td>\n",
       "      <td>529</td>\n",
       "      <td>51</td>\n",
       "      <td>8</td>\n",
       "      <td>150</td>\n",
       "      <td>12</td>\n",
       "      <td>7</td>\n",
       "      <td>45</td>\n",
       "      <td>2</td>\n",
       "      <td>30</td>\n",
       "      <td>227</td>\n",
       "      <td>84</td>\n",
       "    </tr>\n",
       "  </tbody>\n",
       "</table>\n",
       "</div>"
      ],
      "text/plain": [
       "access_type      PLN_grid                  PLN_microgrid                   \\\n",
       "app_now/lighting      0.0  1.0 no response           0.0  1.0 no response   \n",
       "dummy                  39  529          51             8  150          12   \n",
       "\n",
       "access_type      community_microgrid                 no_access       \\\n",
       "app_now/lighting                 0.0 1.0 no response       0.0  1.0   \n",
       "dummy                              7  45           2        30  227   \n",
       "\n",
       "access_type                   \n",
       "app_now/lighting no response  \n",
       "dummy                     84  "
      ]
     },
     "execution_count": 16,
     "metadata": {},
     "output_type": "execute_result"
    }
   ],
   "source": [
    "now_light = survey[['access_type', 'app_now/lighting']].fillna('no response')\n",
    "now_light['dummy'] = now_light['app_now/lighting'].astype(bool)\n",
    "now_light.groupby(['access_type', 'app_now/lighting']).count().transpose()"
   ]
  },
  {
   "cell_type": "code",
   "execution_count": 10,
   "metadata": {
    "collapsed": false
   },
   "outputs": [
    {
     "data": {
      "text/html": [
       "<div>\n",
       "<table border=\"1\" class=\"dataframe\">\n",
       "  <thead>\n",
       "    <tr>\n",
       "      <th>access_type</th>\n",
       "      <th colspan=\"3\" halign=\"left\">PLN_grid</th>\n",
       "      <th colspan=\"3\" halign=\"left\">PLN_microgrid</th>\n",
       "      <th colspan=\"3\" halign=\"left\">community_microgrid</th>\n",
       "      <th colspan=\"3\" halign=\"left\">no_access</th>\n",
       "    </tr>\n",
       "    <tr>\n",
       "      <th>app_buy/lighting</th>\n",
       "      <th>0.0</th>\n",
       "      <th>1.0</th>\n",
       "      <th>no response</th>\n",
       "      <th>0.0</th>\n",
       "      <th>1.0</th>\n",
       "      <th>no response</th>\n",
       "      <th>0.0</th>\n",
       "      <th>1.0</th>\n",
       "      <th>no response</th>\n",
       "      <th>0.0</th>\n",
       "      <th>1.0</th>\n",
       "      <th>no response</th>\n",
       "    </tr>\n",
       "  </thead>\n",
       "  <tbody>\n",
       "    <tr>\n",
       "      <th>dummy</th>\n",
       "      <td>364</td>\n",
       "      <td>62</td>\n",
       "      <td>193</td>\n",
       "      <td>116</td>\n",
       "      <td>1</td>\n",
       "      <td>53</td>\n",
       "      <td>13</td>\n",
       "      <td>33</td>\n",
       "      <td>8</td>\n",
       "      <td>82</td>\n",
       "      <td>127</td>\n",
       "      <td>132</td>\n",
       "    </tr>\n",
       "  </tbody>\n",
       "</table>\n",
       "</div>"
      ],
      "text/plain": [
       "access_type      PLN_grid                 PLN_microgrid                  \\\n",
       "app_buy/lighting      0.0 1.0 no response           0.0 1.0 no response   \n",
       "dummy                 364  62         193           116   1          53   \n",
       "\n",
       "access_type      community_microgrid                 no_access       \\\n",
       "app_buy/lighting                 0.0 1.0 no response       0.0  1.0   \n",
       "dummy                             13  33           8        82  127   \n",
       "\n",
       "access_type                   \n",
       "app_buy/lighting no response  \n",
       "dummy                    132  "
      ]
     },
     "execution_count": 10,
     "metadata": {},
     "output_type": "execute_result"
    }
   ],
   "source": [
    "buy_light = survey[['access_type', 'app_buy/lighting']].fillna('no response')\n",
    "buy_light['dummy'] = buy_light['app_buy/lighting'].astype(bool)\n",
    "buy_light.groupby(['access_type', 'app_buy/lighting']).count().transpose()"
   ]
  },
  {
   "cell_type": "code",
   "execution_count": 27,
   "metadata": {
    "collapsed": false
   },
   "outputs": [],
   "source": [
    "\n",
    "#df = survey[[('app_now/fan'),'app_buy/fan']]\n",
    "#(df[(df['app_now/fan'] ==0) & (df['app_buy/fan']>0)]).count()"
   ]
  },
  {
   "cell_type": "code",
   "execution_count": 28,
   "metadata": {
    "collapsed": false
   },
   "outputs": [],
   "source": [
    "#df1 = survey[['app_now/fan','app_buy/fan']]\n",
    "#(df1[(df1['app_now/fan'] ==np.nan) & (df1['app_buy/fan']>0)]).count()"
   ]
  },
  {
   "cell_type": "code",
   "execution_count": 19,
   "metadata": {
    "collapsed": true
   },
   "outputs": [],
   "source": [
    "appliance_list = ['fridge', 'rice_cooker', 'fan', 'radio', 'TV', 'lighting' ]"
   ]
  },
  {
   "cell_type": "markdown",
   "metadata": {},
   "source": [
    "###NaN's as false??"
   ]
  },
  {
   "cell_type": "code",
   "execution_count": 60,
   "metadata": {
    "collapsed": false
   },
   "outputs": [
    {
     "data": {
      "text/plain": [
       "\"def calc_willingness(survey, appliance):\\n    app_now_appliance = 'app_now/' + appliance\\n    app_buy_appliance = 'app_buy/' + appliance\\n    survey[appliance] = ~survey[app_now_appliance].astype(bool)& survey[app_buy_appliance].fillna(0).astype(bool)\\n    \\n\\nWBlist = []\\nfor appliance in appliance_list:\\n    calc_willingness(survey, appliance)\\n    WBlist.append(appliance)\\n    \\nsubsurvey = survey[['access_type'] + WBlist]\\nsubsurvey\""
      ]
     },
     "execution_count": 60,
     "metadata": {},
     "output_type": "execute_result"
    }
   ],
   "source": [
    "\"\"\"def calc_willingness(survey, appliance):\n",
    "    app_now_appliance = 'app_now/' + appliance\n",
    "    app_buy_appliance = 'app_buy/' + appliance\n",
    "    survey[appliance] = ~survey[app_now_appliance].astype(bool)& survey[app_buy_appliance].fillna(0).astype(bool)\n",
    "    \n",
    "\n",
    "WBlist = []\n",
    "for appliance in appliance_list:\n",
    "    calc_willingness(survey, appliance)\n",
    "    WBlist.append(appliance)\n",
    "    \n",
    "subsurvey = survey[['access_type'] + WBlist]\n",
    "subsurvey\"\"\""
   ]
  },
  {
   "cell_type": "code",
   "execution_count": 21,
   "metadata": {
    "collapsed": false
   },
   "outputs": [
    {
     "data": {
      "text/plain": [
       "\"analyzed = subsurvey.groupby('access_type').agg(['mean','count'])\\n#analyzed['access_type'] = analyzed.index \\nanalyzed\""
      ]
     },
     "execution_count": 21,
     "metadata": {},
     "output_type": "execute_result"
    }
   ],
   "source": [
    "\"\"\"analyzed = subsurvey.groupby('access_type').agg(['mean','count'])\n",
    "#analyzed['access_type'] = analyzed.index \n",
    "analyzed\"\"\""
   ]
  },
  {
   "cell_type": "markdown",
   "metadata": {},
   "source": [
    "###NaN's as true"
   ]
  },
  {
   "cell_type": "code",
   "execution_count": 61,
   "metadata": {
    "collapsed": false
   },
   "outputs": [
    {
     "data": {
      "text/plain": [
       "\"def calc_willingness1(survey, appliance):\\n    app_now_appliance = 'app_now/' + appliance\\n    app_buy_appliance = 'app_buy/' + appliance\\n    survey[appliance] = ~survey[app_now_appliance].astype(bool)& survey[app_buy_appliance].astype(bool)\\n\\nWBlist1 = []\\nfor appliance in appliance_list:\\n    calc_willingness1(survey, appliance)\\n    WBlist1.append(appliance)\\n    \\nsubsurvey1 = survey[['access_type'] + WBlist1]\\nsubsurvey1\""
      ]
     },
     "execution_count": 61,
     "metadata": {},
     "output_type": "execute_result"
    }
   ],
   "source": [
    "\"\"\"def calc_willingness1(survey, appliance):\n",
    "    app_now_appliance = 'app_now/' + appliance\n",
    "    app_buy_appliance = 'app_buy/' + appliance\n",
    "    survey[appliance] = ~survey[app_now_appliance].astype(bool)& survey[app_buy_appliance].astype(bool)\n",
    "\n",
    "WBlist1 = []\n",
    "for appliance in appliance_list:\n",
    "    calc_willingness1(survey, appliance)\n",
    "    WBlist1.append(appliance)\n",
    "    \n",
    "subsurvey1 = survey[['access_type'] + WBlist1]\n",
    "subsurvey1\"\"\""
   ]
  },
  {
   "cell_type": "code",
   "execution_count": 23,
   "metadata": {
    "collapsed": false
   },
   "outputs": [
    {
     "data": {
      "text/plain": [
       "\"analyzed1 = subsurvey1.groupby('access_type').count()\\nanalyzed1['access_type'] = analyzed1.index \\nanalyzed1\""
      ]
     },
     "execution_count": 23,
     "metadata": {},
     "output_type": "execute_result"
    }
   ],
   "source": [
    "\"\"\"analyzed1 = subsurvey1.groupby('access_type').count()\n",
    "analyzed1['access_type'] = analyzed1.index \n",
    "analyzed1\"\"\""
   ]
  },
  {
   "cell_type": "code",
   "execution_count": null,
   "metadata": {
    "collapsed": true
   },
   "outputs": [],
   "source": []
  }
 ],
 "metadata": {
  "kernelspec": {
   "display_name": "Python 3",
   "language": "python",
   "name": "python3"
  },
  "language_info": {
   "codemirror_mode": {
    "name": "ipython",
    "version": 3
   },
   "file_extension": ".py",
   "mimetype": "text/x-python",
   "name": "python",
   "nbconvert_exporter": "python",
   "pygments_lexer": "ipython3",
   "version": "3.4.3"
  }
 },
 "nbformat": 4,
 "nbformat_minor": 0
}
