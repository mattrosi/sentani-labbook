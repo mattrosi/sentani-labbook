{
 "cells": [
  {
   "cell_type": "code",
   "execution_count": 1,
   "metadata": {
    "collapsed": false
   },
   "outputs": [
    {
     "name": "stdout",
     "output_type": "stream",
     "text": [
      "../data-anonymous/sentani-merged-cleaned-anonymous-2014-11-29.xlsx\n"
     ]
    }
   ],
   "source": [
    "%matplotlib inline\n",
    "import matplotlib.pyplot as plt\n",
    "import seaborn as sns\n",
    "import pandas as pd\n",
    "import numpy as np\n",
    "from pysentani import *\n",
    "import sentani as sti\n",
    "survey = find_survey(\"../data-anonymous\")"
   ]
  },
  {
   "cell_type": "code",
   "execution_count": 3,
   "metadata": {
    "collapsed": true
   },
   "outputs": [],
   "source": [
    "survey['access_type'] = survey['village_name'].apply(lambda x: sti.access_map.get(x))"
   ]
  },
  {
   "cell_type": "code",
   "execution_count": 4,
   "metadata": {
    "collapsed": false
   },
   "outputs": [
    {
     "data": {
      "text/html": [
       "<div>\n",
       "<table border=\"1\" class=\"dataframe\">\n",
       "  <thead>\n",
       "    <tr>\n",
       "      <th></th>\n",
       "      <th>PLN_expenditure_monthly</th>\n",
       "      <th>genset_expenditure_monthly</th>\n",
       "    </tr>\n",
       "    <tr>\n",
       "      <th></th>\n",
       "      <th>mean</th>\n",
       "      <th>mean</th>\n",
       "    </tr>\n",
       "    <tr>\n",
       "      <th>access_type</th>\n",
       "      <th></th>\n",
       "      <th></th>\n",
       "    </tr>\n",
       "  </thead>\n",
       "  <tbody>\n",
       "    <tr>\n",
       "      <th>PLN_grid</th>\n",
       "      <td>161688.366446</td>\n",
       "      <td>5950000.000000</td>\n",
       "    </tr>\n",
       "    <tr>\n",
       "      <th>PLN_microgrid</th>\n",
       "      <td>NaN</td>\n",
       "      <td>1115789.473684</td>\n",
       "    </tr>\n",
       "    <tr>\n",
       "      <th>community_microgrid</th>\n",
       "      <td>34000.000000</td>\n",
       "      <td>4500000.000000</td>\n",
       "    </tr>\n",
       "    <tr>\n",
       "      <th>no_access</th>\n",
       "      <td>NaN</td>\n",
       "      <td>1135787.191011</td>\n",
       "    </tr>\n",
       "  </tbody>\n",
       "</table>\n",
       "</div>"
      ],
      "text/plain": [
       "                    PLN_expenditure_monthly genset_expenditure_monthly\n",
       "                                       mean                       mean\n",
       "access_type                                                           \n",
       "PLN_grid                      161688.366446             5950000.000000\n",
       "PLN_microgrid                           NaN             1115789.473684\n",
       "community_microgrid            34000.000000             4500000.000000\n",
       "no_access                               NaN             1135787.191011"
      ]
     },
     "execution_count": 4,
     "metadata": {},
     "output_type": "execute_result"
    }
   ],
   "source": [
    "frequency = {'PLN_expenditure':'monthly',\n",
    "'genset_expenditure':'daily'}\n",
    "\n",
    "multiplier = {'monthly':1, 'daily':30}\n",
    "\n",
    "# create new columns with same monthly frequency\n",
    "for column in frequency.keys():\n",
    "    # adjust expenditure frequency\n",
    "    expenditure = survey[column] * multiplier[frequency[column]]\n",
    "    new_column = column + '_monthly'\n",
    "    survey[new_column] = expenditure\n",
    "   \n",
    "    \n",
    "\n",
    "pd.set_option('max_rows', 200)\n",
    "survey[['PLN_expenditure_monthly','genset_expenditure_monthly']]\n",
    "survey.groupby(['access_type', ])[['PLN_expenditure_monthly',\n",
    "                                  'genset_expenditure_monthly']].agg(['mean'])"
   ]
  },
  {
   "cell_type": "code",
   "execution_count": 5,
   "metadata": {
    "collapsed": false
   },
   "outputs": [],
   "source": [
    "#monthly expenditure divided by 960 rp per kWh (.08 USD per kWh * 12000 rp to USD exchange)\n",
    "def genset_kwh_conversion(df):\n",
    "    converted = (df['genset_expenditure_monthly']/(960))\n",
    "    return converted\n",
    "\n",
    "survey['genset_kWh'] = survey.apply(genset_kwh_conversion, axis=1)\n",
    "\n",
    "# kWh multiplied by Lawrence Berkely Labratory estimation of 1100 g CO2 per kWh\n",
    "def CO2_emission(df1):\n",
    "    converted = df1['genset_kWh']*1100 \n",
    "    return converted\n",
    "\n",
    "survey['CO2_g'] = survey.apply(CO2_emission, axis=1)\n",
    "\n",
    "# Potential Photovoltaic carbon emissions (g CO2 per kWh), (if genset replaced by PV)\n",
    "def PV_emission(df2):\n",
    "    converted = df2['genset_kWh']*100\n",
    "    return converted\n",
    "survey['PV_emission'] = survey.apply(PV_emission, axis=1)\n",
    "\n",
    "# CO2 reduction (co2(g) column - PV_emission column)\n",
    "\n",
    "#def CO2_reduction(df3):\n",
    "#    converted = df3(['co2(g)'] - ['PV_emisssion'])\n",
    "#    return converted\n",
    "#survey['CO2_reduction'] = survey.apply(CO2_reduction, axis=1)"
   ]
  },
  {
   "cell_type": "code",
   "execution_count": 6,
   "metadata": {
    "collapsed": false
   },
   "outputs": [],
   "source": [
    "df = survey.groupby(['access_type',\n",
    "                'village_name'])[['genset_expenditure_monthly',\n",
    "                                  'genset_kWh','CO2_g','PV_emission']].agg(['mean']).dropna()\n"
   ]
  },
  {
   "cell_type": "code",
   "execution_count": 7,
   "metadata": {
    "collapsed": false
   },
   "outputs": [
    {
     "data": {
      "text/html": [
       "<div>\n",
       "<table border=\"1\" class=\"dataframe\">\n",
       "  <thead>\n",
       "    <tr>\n",
       "      <th></th>\n",
       "      <th></th>\n",
       "      <th>genset_expenditure_monthly</th>\n",
       "      <th>genset_kWh</th>\n",
       "      <th>CO2_g</th>\n",
       "      <th>PV_emission</th>\n",
       "    </tr>\n",
       "    <tr>\n",
       "      <th></th>\n",
       "      <th></th>\n",
       "      <th>mean</th>\n",
       "      <th>mean</th>\n",
       "      <th>mean</th>\n",
       "      <th>mean</th>\n",
       "    </tr>\n",
       "    <tr>\n",
       "      <th>access_type</th>\n",
       "      <th>village_name</th>\n",
       "      <th></th>\n",
       "      <th></th>\n",
       "      <th></th>\n",
       "      <th></th>\n",
       "    </tr>\n",
       "  </thead>\n",
       "  <tbody>\n",
       "    <tr>\n",
       "      <th rowspan=\"2\" valign=\"top\">PLN_grid</th>\n",
       "      <th>Hobong</th>\n",
       "      <td>15000000.000000</td>\n",
       "      <td>15625.000000</td>\n",
       "      <td>17187500.000000</td>\n",
       "      <td>1562500.000000</td>\n",
       "    </tr>\n",
       "    <tr>\n",
       "      <th>Khamayakha</th>\n",
       "      <td>1425000.000000</td>\n",
       "      <td>1484.375000</td>\n",
       "      <td>1632812.500000</td>\n",
       "      <td>148437.500000</td>\n",
       "    </tr>\n",
       "    <tr>\n",
       "      <th>PLN_microgrid</th>\n",
       "      <th>Ayapo</th>\n",
       "      <td>1115789.473684</td>\n",
       "      <td>1162.280702</td>\n",
       "      <td>1278508.771930</td>\n",
       "      <td>116228.070175</td>\n",
       "    </tr>\n",
       "    <tr>\n",
       "      <th>community_microgrid</th>\n",
       "      <th>Atamali</th>\n",
       "      <td>4500000.000000</td>\n",
       "      <td>4687.500000</td>\n",
       "      <td>5156250.000000</td>\n",
       "      <td>468750.000000</td>\n",
       "    </tr>\n",
       "    <tr>\n",
       "      <th rowspan=\"8\" valign=\"top\">no_access</th>\n",
       "      <th>Abar</th>\n",
       "      <td>1200000.000000</td>\n",
       "      <td>1250.000000</td>\n",
       "      <td>1375000.000000</td>\n",
       "      <td>125000.000000</td>\n",
       "    </tr>\n",
       "    <tr>\n",
       "      <th>Ebunfauw</th>\n",
       "      <td>988888.888889</td>\n",
       "      <td>1030.092593</td>\n",
       "      <td>1133101.851852</td>\n",
       "      <td>103009.259259</td>\n",
       "    </tr>\n",
       "    <tr>\n",
       "      <th>Kalio</th>\n",
       "      <td>1150000.000000</td>\n",
       "      <td>1197.916667</td>\n",
       "      <td>1317708.333333</td>\n",
       "      <td>119791.666667</td>\n",
       "    </tr>\n",
       "    <tr>\n",
       "      <th>Kampung_Baru</th>\n",
       "      <td>1280000.000000</td>\n",
       "      <td>1333.333333</td>\n",
       "      <td>1466666.666667</td>\n",
       "      <td>133333.333333</td>\n",
       "    </tr>\n",
       "    <tr>\n",
       "      <th>Khageuw</th>\n",
       "      <td>1050000.000000</td>\n",
       "      <td>1093.750000</td>\n",
       "      <td>1203125.000000</td>\n",
       "      <td>109375.000000</td>\n",
       "    </tr>\n",
       "    <tr>\n",
       "      <th>Puai</th>\n",
       "      <td>1419285.714286</td>\n",
       "      <td>1478.422619</td>\n",
       "      <td>1626264.880952</td>\n",
       "      <td>147842.261905</td>\n",
       "    </tr>\n",
       "    <tr>\n",
       "      <th>Yoboi</th>\n",
       "      <td>703452.413793</td>\n",
       "      <td>732.762931</td>\n",
       "      <td>806039.224138</td>\n",
       "      <td>73276.293103</td>\n",
       "    </tr>\n",
       "    <tr>\n",
       "      <th>Yokiwa</th>\n",
       "      <td>1143750.000000</td>\n",
       "      <td>1191.406250</td>\n",
       "      <td>1310546.875000</td>\n",
       "      <td>119140.625000</td>\n",
       "    </tr>\n",
       "  </tbody>\n",
       "</table>\n",
       "</div>"
      ],
      "text/plain": [
       "                                 genset_expenditure_monthly    genset_kWh  \\\n",
       "                                                       mean          mean   \n",
       "access_type         village_name                                            \n",
       "PLN_grid            Hobong                  15000000.000000  15625.000000   \n",
       "                    Khamayakha               1425000.000000   1484.375000   \n",
       "PLN_microgrid       Ayapo                    1115789.473684   1162.280702   \n",
       "community_microgrid Atamali                  4500000.000000   4687.500000   \n",
       "no_access           Abar                     1200000.000000   1250.000000   \n",
       "                    Ebunfauw                  988888.888889   1030.092593   \n",
       "                    Kalio                    1150000.000000   1197.916667   \n",
       "                    Kampung_Baru             1280000.000000   1333.333333   \n",
       "                    Khageuw                  1050000.000000   1093.750000   \n",
       "                    Puai                     1419285.714286   1478.422619   \n",
       "                    Yoboi                     703452.413793    732.762931   \n",
       "                    Yokiwa                   1143750.000000   1191.406250   \n",
       "\n",
       "                                            CO2_g     PV_emission  \n",
       "                                             mean            mean  \n",
       "access_type         village_name                                   \n",
       "PLN_grid            Hobong        17187500.000000  1562500.000000  \n",
       "                    Khamayakha     1632812.500000   148437.500000  \n",
       "PLN_microgrid       Ayapo          1278508.771930   116228.070175  \n",
       "community_microgrid Atamali        5156250.000000   468750.000000  \n",
       "no_access           Abar           1375000.000000   125000.000000  \n",
       "                    Ebunfauw       1133101.851852   103009.259259  \n",
       "                    Kalio          1317708.333333   119791.666667  \n",
       "                    Kampung_Baru   1466666.666667   133333.333333  \n",
       "                    Khageuw        1203125.000000   109375.000000  \n",
       "                    Puai           1626264.880952   147842.261905  \n",
       "                    Yoboi           806039.224138    73276.293103  \n",
       "                    Yokiwa         1310546.875000   119140.625000  "
      ]
     },
     "execution_count": 7,
     "metadata": {},
     "output_type": "execute_result"
    }
   ],
   "source": [
    "df"
   ]
  },
  {
   "cell_type": "code",
   "execution_count": 8,
   "metadata": {
    "collapsed": false
   },
   "outputs": [],
   "source": [
    "df.reset_index(inplace=True)"
   ]
  },
  {
   "cell_type": "code",
   "execution_count": 9,
   "metadata": {
    "collapsed": false
   },
   "outputs": [
    {
     "data": {
      "text/html": [
       "<div>\n",
       "<table border=\"1\" class=\"dataframe\">\n",
       "  <thead>\n",
       "    <tr>\n",
       "      <th></th>\n",
       "      <th>access_type</th>\n",
       "      <th>village_name</th>\n",
       "      <th>genset_expenditure_monthly</th>\n",
       "      <th>genset_kWh</th>\n",
       "      <th>CO2_g</th>\n",
       "      <th>PV_emission</th>\n",
       "    </tr>\n",
       "    <tr>\n",
       "      <th></th>\n",
       "      <th></th>\n",
       "      <th></th>\n",
       "      <th>mean</th>\n",
       "      <th>mean</th>\n",
       "      <th>mean</th>\n",
       "      <th>mean</th>\n",
       "    </tr>\n",
       "  </thead>\n",
       "  <tbody>\n",
       "    <tr>\n",
       "      <th>0</th>\n",
       "      <td>PLN_grid</td>\n",
       "      <td>Hobong</td>\n",
       "      <td>15000000.000000</td>\n",
       "      <td>15625.000000</td>\n",
       "      <td>17187500.00000</td>\n",
       "      <td>1562500.000000</td>\n",
       "    </tr>\n",
       "    <tr>\n",
       "      <th>1</th>\n",
       "      <td>PLN_grid</td>\n",
       "      <td>Khamayakha</td>\n",
       "      <td>1425000.000000</td>\n",
       "      <td>1484.375000</td>\n",
       "      <td>1632812.50000</td>\n",
       "      <td>148437.500000</td>\n",
       "    </tr>\n",
       "    <tr>\n",
       "      <th>2</th>\n",
       "      <td>PLN_microgrid</td>\n",
       "      <td>Ayapo</td>\n",
       "      <td>1115789.473684</td>\n",
       "      <td>1162.280702</td>\n",
       "      <td>1278508.77193</td>\n",
       "      <td>116228.070175</td>\n",
       "    </tr>\n",
       "    <tr>\n",
       "      <th>3</th>\n",
       "      <td>community_microgrid</td>\n",
       "      <td>Atamali</td>\n",
       "      <td>4500000.000000</td>\n",
       "      <td>4687.500000</td>\n",
       "      <td>5156250.00000</td>\n",
       "      <td>468750.000000</td>\n",
       "    </tr>\n",
       "    <tr>\n",
       "      <th>4</th>\n",
       "      <td>no_access</td>\n",
       "      <td>Abar</td>\n",
       "      <td>1200000.000000</td>\n",
       "      <td>1250.000000</td>\n",
       "      <td>1375000.00000</td>\n",
       "      <td>125000.000000</td>\n",
       "    </tr>\n",
       "  </tbody>\n",
       "</table>\n",
       "</div>"
      ],
      "text/plain": [
       "           access_type village_name genset_expenditure_monthly    genset_kWh  \\\n",
       "                                                          mean          mean   \n",
       "0             PLN_grid       Hobong            15000000.000000  15625.000000   \n",
       "1             PLN_grid   Khamayakha             1425000.000000   1484.375000   \n",
       "2        PLN_microgrid        Ayapo             1115789.473684   1162.280702   \n",
       "3  community_microgrid      Atamali             4500000.000000   4687.500000   \n",
       "4            no_access         Abar             1200000.000000   1250.000000   \n",
       "\n",
       "            CO2_g     PV_emission  \n",
       "             mean            mean  \n",
       "0  17187500.00000  1562500.000000  \n",
       "1   1632812.50000   148437.500000  \n",
       "2   1278508.77193   116228.070175  \n",
       "3   5156250.00000   468750.000000  \n",
       "4   1375000.00000   125000.000000  "
      ]
     },
     "execution_count": 9,
     "metadata": {},
     "output_type": "execute_result"
    }
   ],
   "source": [
    "df.head()"
   ]
  },
  {
   "cell_type": "code",
   "execution_count": 15,
   "metadata": {
    "collapsed": true
   },
   "outputs": [],
   "source": [
    "#df.columns = ['_'.join(col).strip() for col in df.columns.values]\n"
   ]
  },
  {
   "cell_type": "code",
   "execution_count": 16,
   "metadata": {
    "collapsed": false
   },
   "outputs": [],
   "source": [
    "#df.columns = ['access_type', 'vn', 'gem_mean', 'genset_kwh_mean', 'carbon']"
   ]
  },
  {
   "cell_type": "code",
   "execution_count": 14,
   "metadata": {
    "collapsed": false
   },
   "outputs": [],
   "source": [
    "#g = sns.FacetGrid(col=\"access_type\", data=df)\n",
    "#g = (g.map(sns.barplot, \"vn\", \"carbon\")\n",
    "#    .set(plt.xticks(rotation=45)))"
   ]
  },
  {
   "cell_type": "code",
   "execution_count": null,
   "metadata": {
    "collapsed": true
   },
   "outputs": [],
   "source": []
  },
  {
   "cell_type": "code",
   "execution_count": null,
   "metadata": {
    "collapsed": true
   },
   "outputs": [],
   "source": []
  }
 ],
 "metadata": {
  "kernelspec": {
   "display_name": "Python 3",
   "language": "python",
   "name": "python3"
  },
  "language_info": {
   "codemirror_mode": {
    "name": "ipython",
    "version": 3
   },
   "file_extension": ".py",
   "mimetype": "text/x-python",
   "name": "python",
   "nbconvert_exporter": "python",
   "pygments_lexer": "ipython3",
   "version": "3.4.3"
  }
 },
 "nbformat": 4,
 "nbformat_minor": 0
}
