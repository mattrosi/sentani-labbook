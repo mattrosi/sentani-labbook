{
 "cells": [
  {
   "cell_type": "code",
   "execution_count": 1,
   "metadata": {
    "collapsed": true
   },
   "outputs": [],
   "source": [
    "import pandas as pd\n",
    "import numpy as np\n",
    "import pysentani as sti"
   ]
  },
  {
   "cell_type": "code",
   "execution_count": 2,
   "metadata": {
    "collapsed": true
   },
   "outputs": [],
   "source": [
    "survey = pd.read_excel('../data-anonymous/sentani-merged-cleaned-anonymous-2014-11-29.xlsx')"
   ]
  },
  {
   "cell_type": "code",
   "execution_count": 3,
   "metadata": {
    "collapsed": false
   },
   "outputs": [],
   "source": [
    "survey['access_type'] = sti.access_type(survey)\n",
    "survey['electricity_monthly'] = sti.elec_expenditure_monthly(survey)"
   ]
  },
  {
   "cell_type": "code",
   "execution_count": 4,
   "metadata": {
    "collapsed": false
   },
   "outputs": [],
   "source": [
    "# looking only at survey data in Ajau\n",
    "survey = survey[survey['village_name'] == 'Ajau']"
   ]
  },
  {
   "cell_type": "code",
   "execution_count": 5,
   "metadata": {
    "collapsed": false
   },
   "outputs": [],
   "source": [
    "# selecting columns to analyze\n",
    "# access type and village name included for verification\n",
    "subsurvey = survey[['access_type','village_name','PLN_expenditure_monthly']]"
   ]
  },
  {
   "cell_type": "code",
   "execution_count": 6,
   "metadata": {
    "collapsed": false
   },
   "outputs": [
    {
     "data": {
      "text/html": [
       "<div>\n",
       "<table border=\"1\" class=\"dataframe\">\n",
       "  <thead>\n",
       "    <tr style=\"text-align: right;\">\n",
       "      <th></th>\n",
       "      <th>access_type</th>\n",
       "      <th>village_name</th>\n",
       "      <th>PLN_expenditure_monthly</th>\n",
       "    </tr>\n",
       "  </thead>\n",
       "  <tbody>\n",
       "    <tr>\n",
       "      <th>348</th>\n",
       "      <td>PLN_grid</td>\n",
       "      <td>Ajau</td>\n",
       "      <td>30000</td>\n",
       "    </tr>\n",
       "    <tr>\n",
       "      <th>349</th>\n",
       "      <td>PLN_grid</td>\n",
       "      <td>Ajau</td>\n",
       "      <td>80000</td>\n",
       "    </tr>\n",
       "    <tr>\n",
       "      <th>350</th>\n",
       "      <td>PLN_grid</td>\n",
       "      <td>Ajau</td>\n",
       "      <td>50000</td>\n",
       "    </tr>\n",
       "    <tr>\n",
       "      <th>352</th>\n",
       "      <td>PLN_grid</td>\n",
       "      <td>Ajau</td>\n",
       "      <td>80000</td>\n",
       "    </tr>\n",
       "    <tr>\n",
       "      <th>353</th>\n",
       "      <td>PLN_grid</td>\n",
       "      <td>Ajau</td>\n",
       "      <td>20000</td>\n",
       "    </tr>\n",
       "    <tr>\n",
       "      <th>354</th>\n",
       "      <td>PLN_grid</td>\n",
       "      <td>Ajau</td>\n",
       "      <td>30000</td>\n",
       "    </tr>\n",
       "    <tr>\n",
       "      <th>355</th>\n",
       "      <td>PLN_grid</td>\n",
       "      <td>Ajau</td>\n",
       "      <td>50000</td>\n",
       "    </tr>\n",
       "    <tr>\n",
       "      <th>356</th>\n",
       "      <td>PLN_grid</td>\n",
       "      <td>Ajau</td>\n",
       "      <td>50000</td>\n",
       "    </tr>\n",
       "    <tr>\n",
       "      <th>358</th>\n",
       "      <td>PLN_grid</td>\n",
       "      <td>Ajau</td>\n",
       "      <td>30000</td>\n",
       "    </tr>\n",
       "    <tr>\n",
       "      <th>359</th>\n",
       "      <td>PLN_grid</td>\n",
       "      <td>Ajau</td>\n",
       "      <td>250000</td>\n",
       "    </tr>\n",
       "    <tr>\n",
       "      <th>731</th>\n",
       "      <td>PLN_grid</td>\n",
       "      <td>Ajau</td>\n",
       "      <td>15000</td>\n",
       "    </tr>\n",
       "    <tr>\n",
       "      <th>732</th>\n",
       "      <td>PLN_grid</td>\n",
       "      <td>Ajau</td>\n",
       "      <td>25000</td>\n",
       "    </tr>\n",
       "  </tbody>\n",
       "</table>\n",
       "</div>"
      ],
      "text/plain": [
       "    access_type village_name  PLN_expenditure_monthly\n",
       "348    PLN_grid         Ajau                    30000\n",
       "349    PLN_grid         Ajau                    80000\n",
       "350    PLN_grid         Ajau                    50000\n",
       "352    PLN_grid         Ajau                    80000\n",
       "353    PLN_grid         Ajau                    20000\n",
       "354    PLN_grid         Ajau                    30000\n",
       "355    PLN_grid         Ajau                    50000\n",
       "356    PLN_grid         Ajau                    50000\n",
       "358    PLN_grid         Ajau                    30000\n",
       "359    PLN_grid         Ajau                   250000\n",
       "731    PLN_grid         Ajau                    15000\n",
       "732    PLN_grid         Ajau                    25000"
      ]
     },
     "execution_count": 6,
     "metadata": {},
     "output_type": "execute_result"
    }
   ],
   "source": [
    "#there appears to be one significant outlier\n",
    "subsurvey.dropna()"
   ]
  },
  {
   "cell_type": "code",
   "execution_count": 7,
   "metadata": {
    "collapsed": false
   },
   "outputs": [
    {
     "data": {
      "text/plain": [
       "PLN_expenditure_monthly    59166.666667\n",
       "dtype: float64"
      ]
     },
     "execution_count": 7,
     "metadata": {},
     "output_type": "execute_result"
    }
   ],
   "source": [
    "subsurvey.mean()"
   ]
  },
  {
   "cell_type": "markdown",
   "metadata": {},
   "source": [
    "$$expenditure\\ in\\ rp \\left(\\frac{1USD}{12,000rp}\\right) \\left(\\frac{1kWh}{0.08USD}\\right)=\\left(\\frac{expenditure}{960}\\right)kWh $$"
   ]
  },
  {
   "cell_type": "code",
   "execution_count": 8,
   "metadata": {
    "collapsed": false
   },
   "outputs": [],
   "source": [
    "# function definition converting expenditure into kwh\n",
    "# 12000 rp to 1 usd was the exchange rate at time of survey along with reported .08USD per kwh\n",
    "def Ajau_kwh_conversion(cv):\n",
    "    converted = (cv['PLN_expenditure_monthly']/(960))\n",
    "    return converted\n",
    "\n",
    "survey['Ajau_kWh'] = survey.apply(Ajau_kwh_conversion, axis=1)"
   ]
  },
  {
   "cell_type": "code",
   "execution_count": 9,
   "metadata": {
    "collapsed": false
   },
   "outputs": [
    {
     "data": {
      "text/html": [
       "<div>\n",
       "<table border=\"1\" class=\"dataframe\">\n",
       "  <thead>\n",
       "    <tr style=\"text-align: right;\">\n",
       "      <th></th>\n",
       "      <th>access_type</th>\n",
       "      <th>PLN_expenditure_monthly</th>\n",
       "      <th>Ajau_kWh</th>\n",
       "    </tr>\n",
       "  </thead>\n",
       "  <tbody>\n",
       "    <tr>\n",
       "      <th>0</th>\n",
       "      <td>PLN_grid</td>\n",
       "      <td>59166.666667</td>\n",
       "      <td>61.631944</td>\n",
       "    </tr>\n",
       "  </tbody>\n",
       "</table>\n",
       "</div>"
      ],
      "text/plain": [
       "  access_type  PLN_expenditure_monthly   Ajau_kWh\n",
       "0    PLN_grid             59166.666667  61.631944"
      ]
     },
     "execution_count": 9,
     "metadata": {},
     "output_type": "execute_result"
    }
   ],
   "source": [
    "#average expenditure and kwh per household per month\n",
    "#groupby access type shown to verify grid type\n",
    "household_mean = survey.groupby(['access_type'])[['PLN_expenditure_monthly','Ajau_kWh']].mean()\n",
    "household_mean.reset_index(inplace=True)\n",
    "household_mean"
   ]
  },
  {
   "cell_type": "code",
   "execution_count": 10,
   "metadata": {
    "collapsed": false
   },
   "outputs": [
    {
     "data": {
      "text/plain": [
       "PLN_expenditure_monthly    59166.666667\n",
       "Ajau_kWh                      61.631944\n",
       "dtype: float64"
      ]
     },
     "execution_count": 10,
     "metadata": {},
     "output_type": "execute_result"
    }
   ],
   "source": [
    "# this one liner may be better\n",
    "survey[['PLN_expenditure_monthly','Ajau_kWh']].mean()"
   ]
  },
  {
   "cell_type": "markdown",
   "metadata": {},
   "source": [
    "Approximately 3 times lower than metered data. The expenditure outlier, if in fact a misreported number, increases the result by a factor of one-half."
   ]
  },
  {
   "cell_type": "markdown",
   "metadata": {},
   "source": [
    "The problem with this analysis is it does not really link appliance ownership to energy use. "
   ]
  },
  {
   "cell_type": "code",
   "execution_count": null,
   "metadata": {
    "collapsed": true
   },
   "outputs": [],
   "source": []
  }
 ],
 "metadata": {
  "kernelspec": {
   "display_name": "Python 3",
   "language": "python",
   "name": "python3"
  },
  "language_info": {
   "codemirror_mode": {
    "name": "ipython",
    "version": 3
   },
   "file_extension": ".py",
   "mimetype": "text/x-python",
   "name": "python",
   "nbconvert_exporter": "python",
   "pygments_lexer": "ipython3",
   "version": "3.4.3"
  }
 },
 "nbformat": 4,
 "nbformat_minor": 0
}
