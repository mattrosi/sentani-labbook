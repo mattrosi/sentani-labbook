{
 "cells": [
  {
   "cell_type": "code",
   "execution_count": 1,
   "metadata": {
    "collapsed": true
   },
   "outputs": [],
   "source": [
    "%matplotlib inline\n",
    "import matplotlib.pyplot as plt\n",
    "import pandas as pd\n",
    "import numpy as np\n",
    "import seaborn as sns"
   ]
  },
  {
   "cell_type": "code",
   "execution_count": 2,
   "metadata": {
    "collapsed": true
   },
   "outputs": [],
   "source": [
    "import pysentani as sti\n",
    "survey = pd.read_excel('../data-anonymous/sentani-merged-cleaned-anonymous-2014-11-29.xlsx')\n",
    "survey['access_type'] = sti.access_type(survey)"
   ]
  },
  {
   "cell_type": "code",
   "execution_count": 3,
   "metadata": {
    "collapsed": true
   },
   "outputs": [],
   "source": [
    "appliances = ['lighting','TV','radio','fridge','rice_cooker','fan']"
   ]
  },
  {
   "cell_type": "code",
   "execution_count": 4,
   "metadata": {
    "collapsed": false
   },
   "outputs": [
    {
     "data": {
      "text/html": [
       "<div>\n",
       "<table border=\"1\" class=\"dataframe\">\n",
       "  <thead>\n",
       "    <tr style=\"text-align: right;\">\n",
       "      <th></th>\n",
       "      <th>app_now/lighting</th>\n",
       "      <th>app_now/TV</th>\n",
       "      <th>app_now/radio</th>\n",
       "      <th>app_now/fridge</th>\n",
       "      <th>app_now/rice_cooker</th>\n",
       "      <th>app_now/fan</th>\n",
       "      <th>access_type</th>\n",
       "    </tr>\n",
       "  </thead>\n",
       "  <tbody>\n",
       "    <tr>\n",
       "      <th>0</th>\n",
       "      <td>0</td>\n",
       "      <td>1</td>\n",
       "      <td>1</td>\n",
       "      <td>0</td>\n",
       "      <td>0</td>\n",
       "      <td>0</td>\n",
       "      <td>no_access</td>\n",
       "    </tr>\n",
       "    <tr>\n",
       "      <th>1</th>\n",
       "      <td>1</td>\n",
       "      <td>1</td>\n",
       "      <td>1</td>\n",
       "      <td>0</td>\n",
       "      <td>0</td>\n",
       "      <td>0</td>\n",
       "      <td>no_access</td>\n",
       "    </tr>\n",
       "    <tr>\n",
       "      <th>2</th>\n",
       "      <td>0</td>\n",
       "      <td>1</td>\n",
       "      <td>0</td>\n",
       "      <td>0</td>\n",
       "      <td>0</td>\n",
       "      <td>0</td>\n",
       "      <td>no_access</td>\n",
       "    </tr>\n",
       "    <tr>\n",
       "      <th>3</th>\n",
       "      <td>1</td>\n",
       "      <td>1</td>\n",
       "      <td>0</td>\n",
       "      <td>0</td>\n",
       "      <td>0</td>\n",
       "      <td>0</td>\n",
       "      <td>no_access</td>\n",
       "    </tr>\n",
       "    <tr>\n",
       "      <th>4</th>\n",
       "      <td>1</td>\n",
       "      <td>0</td>\n",
       "      <td>0</td>\n",
       "      <td>0</td>\n",
       "      <td>0</td>\n",
       "      <td>0</td>\n",
       "      <td>no_access</td>\n",
       "    </tr>\n",
       "  </tbody>\n",
       "</table>\n",
       "</div>"
      ],
      "text/plain": [
       "   app_now/lighting  app_now/TV  app_now/radio  app_now/fridge  \\\n",
       "0                 0           1              1               0   \n",
       "1                 1           1              1               0   \n",
       "2                 0           1              0               0   \n",
       "3                 1           1              0               0   \n",
       "4                 1           0              0               0   \n",
       "\n",
       "   app_now/rice_cooker  app_now/fan access_type  \n",
       "0                    0            0   no_access  \n",
       "1                    0            0   no_access  \n",
       "2                    0            0   no_access  \n",
       "3                    0            0   no_access  \n",
       "4                    0            0   no_access  "
      ]
     },
     "execution_count": 4,
     "metadata": {},
     "output_type": "execute_result"
    }
   ],
   "source": [
    "now_columns = ['app_now/{}'.format(a) for a in appliances]\n",
    "now_columns.append('access_type')\n",
    "survey[now_columns].head()"
   ]
  },
  {
   "cell_type": "code",
   "execution_count": 5,
   "metadata": {
    "collapsed": false
   },
   "outputs": [
    {
     "data": {
      "text/html": [
       "<div>\n",
       "<table border=\"1\" class=\"dataframe\">\n",
       "  <thead>\n",
       "    <tr style=\"text-align: right;\">\n",
       "      <th></th>\n",
       "      <th>app_now/lighting</th>\n",
       "      <th>app_now/TV</th>\n",
       "      <th>app_now/radio</th>\n",
       "      <th>app_now/fridge</th>\n",
       "      <th>app_now/rice_cooker</th>\n",
       "      <th>app_now/fan</th>\n",
       "    </tr>\n",
       "    <tr>\n",
       "      <th>access_type</th>\n",
       "      <th></th>\n",
       "      <th></th>\n",
       "      <th></th>\n",
       "      <th></th>\n",
       "      <th></th>\n",
       "      <th></th>\n",
       "    </tr>\n",
       "  </thead>\n",
       "  <tbody>\n",
       "    <tr>\n",
       "      <th>PLN_grid</th>\n",
       "      <td>0.931338</td>\n",
       "      <td>0.815141</td>\n",
       "      <td>0.301056</td>\n",
       "      <td>0.329225</td>\n",
       "      <td>0.276408</td>\n",
       "      <td>0.176056</td>\n",
       "    </tr>\n",
       "    <tr>\n",
       "      <th>PLN_microgrid</th>\n",
       "      <td>0.949367</td>\n",
       "      <td>0.810127</td>\n",
       "      <td>0.278481</td>\n",
       "      <td>0.037975</td>\n",
       "      <td>0.012658</td>\n",
       "      <td>0.025316</td>\n",
       "    </tr>\n",
       "    <tr>\n",
       "      <th>community_microgrid</th>\n",
       "      <td>0.865385</td>\n",
       "      <td>0.923077</td>\n",
       "      <td>0.500000</td>\n",
       "      <td>0.019231</td>\n",
       "      <td>0.134615</td>\n",
       "      <td>0.096154</td>\n",
       "    </tr>\n",
       "    <tr>\n",
       "      <th>no_access</th>\n",
       "      <td>0.883268</td>\n",
       "      <td>0.797665</td>\n",
       "      <td>0.431907</td>\n",
       "      <td>0.015564</td>\n",
       "      <td>0.031128</td>\n",
       "      <td>0.081712</td>\n",
       "    </tr>\n",
       "  </tbody>\n",
       "</table>\n",
       "</div>"
      ],
      "text/plain": [
       "                     app_now/lighting  app_now/TV  app_now/radio  \\\n",
       "access_type                                                        \n",
       "PLN_grid                     0.931338    0.815141       0.301056   \n",
       "PLN_microgrid                0.949367    0.810127       0.278481   \n",
       "community_microgrid          0.865385    0.923077       0.500000   \n",
       "no_access                    0.883268    0.797665       0.431907   \n",
       "\n",
       "                     app_now/fridge  app_now/rice_cooker  app_now/fan  \n",
       "access_type                                                            \n",
       "PLN_grid                   0.329225             0.276408     0.176056  \n",
       "PLN_microgrid              0.037975             0.012658     0.025316  \n",
       "community_microgrid        0.019231             0.134615     0.096154  \n",
       "no_access                  0.015564             0.031128     0.081712  "
      ]
     },
     "execution_count": 5,
     "metadata": {},
     "output_type": "execute_result"
    }
   ],
   "source": [
    "appliance_data = survey[now_columns]\n",
    "appliance_mean = appliance_data.groupby('access_type').mean()\n",
    "appliance_mean"
   ]
  },
  {
   "cell_type": "code",
   "execution_count": 6,
   "metadata": {
    "collapsed": true
   },
   "outputs": [],
   "source": [
    "appliance_mean['access_type'] = appliance_mean.index"
   ]
  },
  {
   "cell_type": "code",
   "execution_count": 7,
   "metadata": {
    "collapsed": true
   },
   "outputs": [],
   "source": [
    "melted = pd.melt(appliance_mean, \n",
    "                 id_vars=['access_type'],\n",
    "                 value_vars=['app_now/lighting','app_now/TV','app_now/radio',\n",
    "                             'app_now/fridge','app_now/rice_cooker','app_now/fan'],\n",
    "                 value_name='Percent Ownership')"
   ]
  },
  {
   "cell_type": "code",
   "execution_count": 8,
   "metadata": {
    "collapsed": true
   },
   "outputs": [],
   "source": [
    "melted.rename(columns={'access_type': 'Access Type'},inplace = True)\n",
    "\n",
    "\n",
    "melted.replace(to_replace = {'Access Type': {'PLN_grid': 'PLN Grid',\n",
    "                                             'community_microgrid': 'Community Microgrid',\n",
    "                                             'PLN_microgrid': 'PLN Microgrid',\n",
    "                                             'no_access': 'No Access'}},inplace = True)\n",
    "\n",
    "melted.replace(to_replace = {'variable': {'app_now/rice_cooker': 'Rice Cooker',\n",
    "                                            'app_now/TV': 'TV',\n",
    "                                            'app_now/fridge': 'Fridge',\n",
    "                                            'app_now/fan':'Fan',\n",
    "                                            'app_now/lighting': 'Lighting',\n",
    "                                            'app_now/radio': 'Radio'}},inplace = True)"
   ]
  },
  {
   "cell_type": "code",
   "execution_count": 9,
   "metadata": {
    "collapsed": false
   },
   "outputs": [
    {
     "data": {
      "image/png": "[encoded data removed]",
      "text/plain": [
       "<matplotlib.figure.Figure at 0x108cd5f28>"
      ]
     },
     "metadata": {},
     "output_type": "display_data"
    }
   ],
   "source": [
    "plt.figure(figsize=(18,10))\n",
    "sns.barplot(x='Access Type', y='Percent Ownership', hue='variable', data=melted,\n",
    "            order=['PLN Grid','PLN Microgrid','Community Microgrid','No Access'])\n",
    "plt.ylabel('Percent Ownership', fontsize=14)\n",
    "plt.legend(prop={'size':14})\n",
    "plt.tick_params(labelsize=12)\n",
    "plt.savefig('appliance-ownership-revised.pdf')"
   ]
  },
  {
   "cell_type": "code",
   "execution_count": null,
   "metadata": {
    "collapsed": true
   },
   "outputs": [],
   "source": []
  }
 ],
 "metadata": {
  "kernelspec": {
   "display_name": "Python 3",
   "language": "python",
   "name": "python3"
  },
  "language_info": {
   "codemirror_mode": {
    "name": "ipython",
    "version": 3
   },
   "file_extension": ".py",
   "mimetype": "text/x-python",
   "name": "python",
   "nbconvert_exporter": "python",
   "pygments_lexer": "ipython3",
   "version": "3.4.4"
  }
 },
 "nbformat": 4,
 "nbformat_minor": 0
}
