{
 "cells": [
  {
   "cell_type": "code",
   "execution_count": 1,
   "metadata": {
    "collapsed": true
   },
   "outputs": [],
   "source": [
    "%matplotlib inline\n",
    "import matplotlib.pyplot as plt\n",
    "import numpy as np\n",
    "import seaborn as sns\n",
    "import pandas as pd\n",
    "import pysentani as sti\n",
    "survey = pd.read_excel('../data-anonymous/sentani-merged-cleaned-anonymous-2014-11-29.xlsx')\n",
    "survey['access_type'] = sti.access_type(survey)"
   ]
  },
  {
   "cell_type": "code",
   "execution_count": 2,
   "metadata": {
    "collapsed": true
   },
   "outputs": [],
   "source": [
    "for app in ['TV', 'radio', 'fridge', 'fan', 'rice_cooker', 'lighting']:\n",
    "    # generate column labels for each appliance\n",
    "    wk_col = 'app_{}_per_wk'.format(app)\n",
    "    hr_col = 'app_{}_hrs'.format(app)\n",
    "    # if null or within range use value, otherwise use max possible value\n",
    "    survey[hr_col] = survey[hr_col].where(survey[hr_col].isnull() | (survey[hr_col] <= 24), 24)\n",
    "    survey[wk_col] = survey[wk_col].where(survey[wk_col].isnull() | (survey[wk_col] <= 7), 7)\n",
    "\n",
    "    # ensure non-null values are within bounds\n",
    "    assert(all(survey[wk_col].dropna() <= 7))\n",
    "    assert(all(survey[wk_col].dropna() >= 0))\n",
    "    assert(all(survey[hr_col].dropna() <= 24))\n",
    "    assert(all(survey[hr_col].dropna() >= 0))"
   ]
  },
  {
   "cell_type": "code",
   "execution_count": 3,
   "metadata": {
    "collapsed": true
   },
   "outputs": [],
   "source": [
    "powers = {'TV':0.040, 'fridge':0.100, 'radio':0.010, 'fan':0.050, 'rice_cooker':0.350, 'lighting':0.050}\n",
    "appliance_list = ['TV', 'fridge', 'radio', 'fan', 'rice_cooker', 'lighting']\n",
    "\n",
    "for appliance in appliance_list:\n",
    "    # create column label from appliance names\n",
    "    wk_col = 'app_{}_per_wk'.format(appliance)\n",
    "    hr_col = 'app_{}_hrs'.format(appliance)\n",
    "    energy_col = 'daily_{}_energy'.format(appliance)\n",
    "    weekly_hr_col = 'weekly_{}_hrs'.format(appliance)\n",
    "    survey[weekly_hr_col] = survey[wk_col] * survey[hr_col]    \n",
    "    survey[energy_col] = survey[weekly_hr_col] / 7 * powers[appliance]"
   ]
  },
  {
   "cell_type": "code",
   "execution_count": 4,
   "metadata": {
    "collapsed": true
   },
   "outputs": [],
   "source": [
    "columns = ['access_type',\n",
    "           'village_name',\n",
    "           'daily_lighting_energy',\n",
    "           'daily_TV_energy',\n",
    "           'daily_radio_energy', \n",
    "           'daily_fridge_energy', \n",
    "           'daily_rice_cooker_energy',\n",
    "           'daily_fan_energy']\n"
   ]
  },
  {
   "cell_type": "code",
   "execution_count": 14,
   "metadata": {
    "collapsed": false
   },
   "outputs": [
    {
     "data": {
      "text/html": [
       "<div>\n",
       "<table border=\"1\" class=\"dataframe\">\n",
       "  <thead>\n",
       "    <tr style=\"text-align: right;\">\n",
       "      <th></th>\n",
       "      <th>access_type</th>\n",
       "      <th>village_name</th>\n",
       "      <th>daily_lighting_energy</th>\n",
       "      <th>daily_TV_energy</th>\n",
       "      <th>daily_radio_energy</th>\n",
       "      <th>daily_fridge_energy</th>\n",
       "      <th>daily_rice_cooker_energy</th>\n",
       "      <th>daily_fan_energy</th>\n",
       "    </tr>\n",
       "  </thead>\n",
       "  <tbody>\n",
       "    <tr>\n",
       "      <th>0</th>\n",
       "      <td>no_access</td>\n",
       "      <td>Puai</td>\n",
       "      <td>0.000000</td>\n",
       "      <td>0.160000</td>\n",
       "      <td>0.020000</td>\n",
       "      <td>0</td>\n",
       "      <td>0</td>\n",
       "      <td>0</td>\n",
       "    </tr>\n",
       "    <tr>\n",
       "      <th>1</th>\n",
       "      <td>no_access</td>\n",
       "      <td>Abar</td>\n",
       "      <td>0.042857</td>\n",
       "      <td>0.080000</td>\n",
       "      <td>0.008571</td>\n",
       "      <td>0</td>\n",
       "      <td>0</td>\n",
       "      <td>0</td>\n",
       "    </tr>\n",
       "    <tr>\n",
       "      <th>2</th>\n",
       "      <td>no_access</td>\n",
       "      <td>Abar</td>\n",
       "      <td>0.000000</td>\n",
       "      <td>0.120000</td>\n",
       "      <td>0.000000</td>\n",
       "      <td>0</td>\n",
       "      <td>0</td>\n",
       "      <td>0</td>\n",
       "    </tr>\n",
       "    <tr>\n",
       "      <th>3</th>\n",
       "      <td>no_access</td>\n",
       "      <td>Abar</td>\n",
       "      <td>0.114286</td>\n",
       "      <td>0.022857</td>\n",
       "      <td>0.000000</td>\n",
       "      <td>0</td>\n",
       "      <td>0</td>\n",
       "      <td>0</td>\n",
       "    </tr>\n",
       "    <tr>\n",
       "      <th>4</th>\n",
       "      <td>no_access</td>\n",
       "      <td>Abar</td>\n",
       "      <td>0.300000</td>\n",
       "      <td>0.000000</td>\n",
       "      <td>0.000000</td>\n",
       "      <td>0</td>\n",
       "      <td>0</td>\n",
       "      <td>0</td>\n",
       "    </tr>\n",
       "  </tbody>\n",
       "</table>\n",
       "</div>"
      ],
      "text/plain": [
       "  access_type village_name  daily_lighting_energy  daily_TV_energy  \\\n",
       "0   no_access         Puai               0.000000         0.160000   \n",
       "1   no_access         Abar               0.042857         0.080000   \n",
       "2   no_access         Abar               0.000000         0.120000   \n",
       "3   no_access         Abar               0.114286         0.022857   \n",
       "4   no_access         Abar               0.300000         0.000000   \n",
       "\n",
       "   daily_radio_energy  daily_fridge_energy  daily_rice_cooker_energy  \\\n",
       "0            0.020000                    0                         0   \n",
       "1            0.008571                    0                         0   \n",
       "2            0.000000                    0                         0   \n",
       "3            0.000000                    0                         0   \n",
       "4            0.000000                    0                         0   \n",
       "\n",
       "   daily_fan_energy  \n",
       "0                 0  \n",
       "1                 0  \n",
       "2                 0  \n",
       "3                 0  \n",
       "4                 0  "
      ]
     },
     "execution_count": 14,
     "metadata": {},
     "output_type": "execute_result"
    }
   ],
   "source": [
    "survey[columns].fillna(0).head()"
   ]
  },
  {
   "cell_type": "code",
   "execution_count": 15,
   "metadata": {
    "collapsed": false
   },
   "outputs": [
    {
     "data": {
      "text/html": [
       "<div>\n",
       "<table border=\"1\" class=\"dataframe\">\n",
       "  <thead>\n",
       "    <tr style=\"text-align: right;\">\n",
       "      <th></th>\n",
       "      <th>access_type</th>\n",
       "      <th>village_name</th>\n",
       "      <th>daily_lighting_energy</th>\n",
       "      <th>daily_TV_energy</th>\n",
       "      <th>daily_radio_energy</th>\n",
       "      <th>daily_fridge_energy</th>\n",
       "      <th>daily_rice_cooker_energy</th>\n",
       "      <th>daily_fan_energy</th>\n",
       "      <th>Avg_Daily_Energy</th>\n",
       "    </tr>\n",
       "  </thead>\n",
       "  <tbody>\n",
       "    <tr>\n",
       "      <th>0</th>\n",
       "      <td>no_access</td>\n",
       "      <td>Puai</td>\n",
       "      <td>0.000000</td>\n",
       "      <td>0.160000</td>\n",
       "      <td>0.020000</td>\n",
       "      <td>0</td>\n",
       "      <td>0</td>\n",
       "      <td>0</td>\n",
       "      <td>0.180000</td>\n",
       "    </tr>\n",
       "    <tr>\n",
       "      <th>1</th>\n",
       "      <td>no_access</td>\n",
       "      <td>Abar</td>\n",
       "      <td>0.042857</td>\n",
       "      <td>0.080000</td>\n",
       "      <td>0.008571</td>\n",
       "      <td>0</td>\n",
       "      <td>0</td>\n",
       "      <td>0</td>\n",
       "      <td>0.131429</td>\n",
       "    </tr>\n",
       "    <tr>\n",
       "      <th>2</th>\n",
       "      <td>no_access</td>\n",
       "      <td>Abar</td>\n",
       "      <td>0.000000</td>\n",
       "      <td>0.120000</td>\n",
       "      <td>0.000000</td>\n",
       "      <td>0</td>\n",
       "      <td>0</td>\n",
       "      <td>0</td>\n",
       "      <td>0.120000</td>\n",
       "    </tr>\n",
       "    <tr>\n",
       "      <th>3</th>\n",
       "      <td>no_access</td>\n",
       "      <td>Abar</td>\n",
       "      <td>0.114286</td>\n",
       "      <td>0.022857</td>\n",
       "      <td>0.000000</td>\n",
       "      <td>0</td>\n",
       "      <td>0</td>\n",
       "      <td>0</td>\n",
       "      <td>0.137143</td>\n",
       "    </tr>\n",
       "    <tr>\n",
       "      <th>4</th>\n",
       "      <td>no_access</td>\n",
       "      <td>Abar</td>\n",
       "      <td>0.300000</td>\n",
       "      <td>0.000000</td>\n",
       "      <td>0.000000</td>\n",
       "      <td>0</td>\n",
       "      <td>0</td>\n",
       "      <td>0</td>\n",
       "      <td>0.300000</td>\n",
       "    </tr>\n",
       "  </tbody>\n",
       "</table>\n",
       "</div>"
      ],
      "text/plain": [
       "  access_type village_name  daily_lighting_energy  daily_TV_energy  \\\n",
       "0   no_access         Puai               0.000000         0.160000   \n",
       "1   no_access         Abar               0.042857         0.080000   \n",
       "2   no_access         Abar               0.000000         0.120000   \n",
       "3   no_access         Abar               0.114286         0.022857   \n",
       "4   no_access         Abar               0.300000         0.000000   \n",
       "\n",
       "   daily_radio_energy  daily_fridge_energy  daily_rice_cooker_energy  \\\n",
       "0            0.020000                    0                         0   \n",
       "1            0.008571                    0                         0   \n",
       "2            0.000000                    0                         0   \n",
       "3            0.000000                    0                         0   \n",
       "4            0.000000                    0                         0   \n",
       "\n",
       "   daily_fan_energy  Avg_Daily_Energy  \n",
       "0                 0          0.180000  \n",
       "1                 0          0.131429  \n",
       "2                 0          0.120000  \n",
       "3                 0          0.137143  \n",
       "4                 0          0.300000  "
      ]
     },
     "execution_count": 15,
     "metadata": {},
     "output_type": "execute_result"
    }
   ],
   "source": [
    "survey['Avg_Daily_Energy'] = energy_data.sum(axis=1)\n",
    "energy_data.head()"
   ]
  },
  {
   "cell_type": "code",
   "execution_count": 16,
   "metadata": {
    "collapsed": true
   },
   "outputs": [],
   "source": [
    "wk_columns = ['Avg_Daily_Energy']\n",
    "id_columns = ['access_type']\n",
    "\n",
    "columns = wk_columns + id_columns\n",
    "plt_data = pd.melt(survey[columns], value_vars=wk_columns, id_vars=id_columns)"
   ]
  },
  {
   "cell_type": "code",
   "execution_count": 17,
   "metadata": {
    "collapsed": false
   },
   "outputs": [
    {
     "data": {
      "text/html": [
       "<div>\n",
       "<table border=\"1\" class=\"dataframe\">\n",
       "  <thead>\n",
       "    <tr style=\"text-align: right;\">\n",
       "      <th></th>\n",
       "      <th>access_type</th>\n",
       "      <th>variable</th>\n",
       "      <th>value</th>\n",
       "    </tr>\n",
       "  </thead>\n",
       "  <tbody>\n",
       "    <tr>\n",
       "      <th>0</th>\n",
       "      <td>no_access</td>\n",
       "      <td>Avg_Daily_Energy</td>\n",
       "      <td>0.360000</td>\n",
       "    </tr>\n",
       "    <tr>\n",
       "      <th>1</th>\n",
       "      <td>no_access</td>\n",
       "      <td>Avg_Daily_Energy</td>\n",
       "      <td>0.262857</td>\n",
       "    </tr>\n",
       "    <tr>\n",
       "      <th>2</th>\n",
       "      <td>no_access</td>\n",
       "      <td>Avg_Daily_Energy</td>\n",
       "      <td>0.240000</td>\n",
       "    </tr>\n",
       "    <tr>\n",
       "      <th>3</th>\n",
       "      <td>no_access</td>\n",
       "      <td>Avg_Daily_Energy</td>\n",
       "      <td>0.274286</td>\n",
       "    </tr>\n",
       "    <tr>\n",
       "      <th>4</th>\n",
       "      <td>no_access</td>\n",
       "      <td>Avg_Daily_Energy</td>\n",
       "      <td>0.600000</td>\n",
       "    </tr>\n",
       "  </tbody>\n",
       "</table>\n",
       "</div>"
      ],
      "text/plain": [
       "  access_type          variable     value\n",
       "0   no_access  Avg_Daily_Energy  0.360000\n",
       "1   no_access  Avg_Daily_Energy  0.262857\n",
       "2   no_access  Avg_Daily_Energy  0.240000\n",
       "3   no_access  Avg_Daily_Energy  0.274286\n",
       "4   no_access  Avg_Daily_Energy  0.600000"
      ]
     },
     "execution_count": 17,
     "metadata": {},
     "output_type": "execute_result"
    }
   ],
   "source": [
    "plt_data.head()"
   ]
  },
  {
   "cell_type": "code",
   "execution_count": 25,
   "metadata": {
    "collapsed": false
   },
   "outputs": [
    {
     "data": {
      "text/plain": [
       "(0, 10)"
      ]
     },
     "execution_count": 25,
     "metadata": {},
     "output_type": "execute_result"
    },
    {
     "data": {
      "image/png": "[encoded data removed]",
      "text/plain": [
       "<matplotlib.figure.Figure at 0x10ae456a0>"
      ]
     },
     "metadata": {},
     "output_type": "display_data"
    }
   ],
   "source": [
    "plt.figure(figsize=(19,10))\n",
    "sns.boxplot(data=plt_data, hue='access_type', y='value', x='variable')\n",
    "            #order=['PLN Grid','PLN Microgrid','Community Microgrid','Non-Centralized'])\n",
    "plt.ylabel('Weekly Hours', fontsize=20)\n",
    "plt.xlabel('Access Type', fontsize=20)\n",
    "plt.tick_params(labelsize=18)\n",
    "plt.legend(prop={'size':16})\n",
    "plt.ylim(0, 10)\n",
    "#plt.savefig('appliance-hours.pdf')"
   ]
  },
  {
   "cell_type": "code",
   "execution_count": null,
   "metadata": {
    "collapsed": true
   },
   "outputs": [],
   "source": []
  }
 ],
 "metadata": {
  "kernelspec": {
   "display_name": "Python 3",
   "language": "python",
   "name": "python3"
  },
  "language_info": {
   "codemirror_mode": {
    "name": "ipython",
    "version": 3
   },
   "file_extension": ".py",
   "mimetype": "text/x-python",
   "name": "python",
   "nbconvert_exporter": "python",
   "pygments_lexer": "ipython3",
   "version": "3.4.4"
  }
 },
 "nbformat": 4,
 "nbformat_minor": 0
}
