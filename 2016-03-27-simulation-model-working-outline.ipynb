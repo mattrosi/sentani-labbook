{
 "cells": [
  {
   "cell_type": "markdown",
   "metadata": {},
   "source": [
    "# Models and Measurements of Electricity Use In Lake Sentani"
   ]
  },
  {
   "cell_type": "markdown",
   "metadata": {},
   "source": [
    "# Abstract:\n",
    "\n",
    " A simulation model of secondary energy consumption in (grid) connected locations will be created to estimate the optimum load capacity needed to facilitate the perceived energy requirement for non-electrified locations.\n",
    " (short term model analyzes households while long term should include all demand points)\n",
    " \n",
    " The model is created from survey data collected in Lake Sentani, Indonesia and contains information regarding multiple aspects of daily life from energy demand points, consisting of households, schools, and other electrified establishments.\n",
    " \n",
    "  Information about appliance ownership will be used to estimate the total amount of appliances present in each grid connected village. Appliance use times will then be analyzed in conjuction with infered appliance power ratings to determine the amount of energy(kWh) consumed."
   ]
  },
  {
   "cell_type": "markdown",
   "metadata": {},
   "source": [
    " [From that information we can then say either:\n",
    " \n",
    " a) a village that consists of (x) number of households will need a (y) kWh producing microgrid.\n",
    " \n",
    " b) by determining an average energy use from each appliance combined with information of future appliance purchases: a village that consists of (x) number of appliances will need a (y) kWh producing microgrid. \n",
    " (app_buy/ vs app_buy_imm/ controversy) "
   ]
  },
  {
   "cell_type": "markdown",
   "metadata": {},
   "source": [
    "# Introduction\n",
    "\n",
    " (Importance of accuracy for microgrid installation). \n",
    "\n",
    " It is assumed that the PLN grid is fully functional and allows demand-points to meet daily electricity requirements for the desired (quality of living). \n",
    " \n",
    " The sample survey data is projected to reflect the population of Lake Sentani, in which the (actual) quantity of demand points were gathered from local resources. \n",
    " \n",
    " In certain villages, 100% survey participation was achieved; however, in  most of those cases there was less than a 100% rate of response for each question, meaning certain households/demand points withheld a response for varying (and currently undetermined) reasons. \n",
    " \n",
    " Non-responses will be calculated in a way that reflects the rest of the village demographic. In other villages with less than 100% survey participitation , the proportion of responding households comapared to total demand-points will be used to reflect the entire village.Example:"
   ]
  },
  {
   "cell_type": "markdown",
   "metadata": {},
   "source": [
    "| Village | `%`Survey | Appliance | survey count |  projected   |\n",
    "|---------|-----------|-----------|--------------|--------------|\n",
    "| Abar    |    50     |    TV     |    10        |    20        |\n",
    "| Ajau    |    100    |    TV     |    5         |     5        |"
   ]
  },
  {
   "cell_type": "markdown",
   "metadata": {},
   "source": [
    "## Computation and Visualization Tools:\n",
    " Multiple libraries are used to facilitate data computation and graphical plotting.\n",
    " * Visualization\n",
    "     * Seaborn: creating graphs.\n",
    "     * matplotlib.pyplot: plotting graphs\n",
    " * Computation\n",
    "     * Pandas: Panel data (s?): `groupby()` \n",
    "     * Numpy: Numerical python: `count()`,`mean()`,etc"
   ]
  },
  {
   "cell_type": "code",
   "execution_count": 1,
   "metadata": {
    "collapsed": true
   },
   "outputs": [],
   "source": [
    "%matplotlib inline\n",
    "import matplotlib.pyplot as plt\n",
    "import pandas as pd\n",
    "import numpy as np\n",
    "import seaborn as sns"
   ]
  },
  {
   "cell_type": "markdown",
   "metadata": {},
   "source": [
    "## Survey Information\n",
    " \n",
    " Data is kept in an excel spreadsheet that is downloaded from the Ona platform and then cleaned to correct entries(cleaning definition for short term model).\n",
    " \n",
    " The pysentani library contains information based on gathered local knowledge. The Access type function is used to differentiate between the four levels of connectivity, PLN grid, two types of microgrids, and non-electrified locations.\n",
    " * Perusahaan Listrik Negara(PLN) is the local government utility, translated from Malay as State Electric Company."
   ]
  },
  {
   "cell_type": "code",
   "execution_count": 2,
   "metadata": {
    "collapsed": false
   },
   "outputs": [],
   "source": [
    "import pysentani as sti\n",
    "survey = pd.read_excel('../data-anonymous/sentani-merged-cleaned-anonymous-2014-11-29.xlsx')\n",
    "survey['access_type'] = sti.access_type(survey)"
   ]
  },
  {
   "cell_type": "code",
   "execution_count": 3,
   "metadata": {
    "collapsed": false
   },
   "outputs": [],
   "source": [
    "#this cell used to describe types of demand points on the grid and will not remain in this form on final draft \n",
    "#grid = (survey['access_type']==\"PLN_grid\")\n",
    "#survey['demand_point'][grid].value_counts()"
   ]
  },
  {
   "cell_type": "code",
   "execution_count": 4,
   "metadata": {
    "collapsed": false
   },
   "outputs": [
    {
     "name": "stdout",
     "output_type": "stream",
     "text": [
      "Connectivity Level:\n",
      "['no_access' 'community_microgrid' 'PLN_grid' 'PLN_microgrid']\n"
     ]
    }
   ],
   "source": [
    "print(\"Connectivity Level:\")\n",
    "print(survey['access_type'].unique())"
   ]
  },
  {
   "cell_type": "markdown",
   "metadata": {},
   "source": [
    "# Methods"
   ]
  },
  {
   "cell_type": "markdown",
   "metadata": {},
   "source": [
    "## Appliance Ownership"
   ]
  },
  {
   "cell_type": "markdown",
   "metadata": {},
   "source": [
    "The number of appliances for each village is needed to calculate an energy usage estimate. We start with a dataframe of current ownership information for appliances in each surveyed household with an access type identifier. Ownership is indicated as 1, non-ownership as 0, and non-responses as Nan.(reword) Survey is set to identify household responses only(short term)."
   ]
  },
  {
   "cell_type": "code",
   "execution_count": 5,
   "metadata": {
    "collapsed": true
   },
   "outputs": [],
   "source": [
    "survey = survey[survey['demand_point'] == 'household']"
   ]
  },
  {
   "cell_type": "code",
   "execution_count": 6,
   "metadata": {
    "collapsed": true
   },
   "outputs": [],
   "source": [
    "appliances = ['lighting','TV','fridge','rice_cooker','radio','fan']"
   ]
  },
  {
   "cell_type": "code",
   "execution_count": 7,
   "metadata": {
    "collapsed": false
   },
   "outputs": [
    {
     "data": {
      "text/html": [
       "<div>\n",
       "<table border=\"1\" class=\"dataframe\">\n",
       "  <thead>\n",
       "    <tr style=\"text-align: right;\">\n",
       "      <th></th>\n",
       "      <th>app_now/lighting</th>\n",
       "      <th>app_now/TV</th>\n",
       "      <th>app_now/fridge</th>\n",
       "      <th>app_now/rice_cooker</th>\n",
       "      <th>app_now/radio</th>\n",
       "      <th>app_now/fan</th>\n",
       "      <th>access_type</th>\n",
       "    </tr>\n",
       "  </thead>\n",
       "  <tbody>\n",
       "    <tr>\n",
       "      <th>0</th>\n",
       "      <td>0</td>\n",
       "      <td>1</td>\n",
       "      <td>0</td>\n",
       "      <td>0</td>\n",
       "      <td>1</td>\n",
       "      <td>0</td>\n",
       "      <td>no_access</td>\n",
       "    </tr>\n",
       "    <tr>\n",
       "      <th>1</th>\n",
       "      <td>1</td>\n",
       "      <td>1</td>\n",
       "      <td>0</td>\n",
       "      <td>0</td>\n",
       "      <td>1</td>\n",
       "      <td>0</td>\n",
       "      <td>no_access</td>\n",
       "    </tr>\n",
       "    <tr>\n",
       "      <th>2</th>\n",
       "      <td>0</td>\n",
       "      <td>1</td>\n",
       "      <td>0</td>\n",
       "      <td>0</td>\n",
       "      <td>0</td>\n",
       "      <td>0</td>\n",
       "      <td>no_access</td>\n",
       "    </tr>\n",
       "    <tr>\n",
       "      <th>3</th>\n",
       "      <td>1</td>\n",
       "      <td>1</td>\n",
       "      <td>0</td>\n",
       "      <td>0</td>\n",
       "      <td>0</td>\n",
       "      <td>0</td>\n",
       "      <td>no_access</td>\n",
       "    </tr>\n",
       "    <tr>\n",
       "      <th>4</th>\n",
       "      <td>1</td>\n",
       "      <td>0</td>\n",
       "      <td>0</td>\n",
       "      <td>0</td>\n",
       "      <td>0</td>\n",
       "      <td>0</td>\n",
       "      <td>no_access</td>\n",
       "    </tr>\n",
       "  </tbody>\n",
       "</table>\n",
       "</div>"
      ],
      "text/plain": [
       "   app_now/lighting  app_now/TV  app_now/fridge  app_now/rice_cooker  \\\n",
       "0                 0           1               0                    0   \n",
       "1                 1           1               0                    0   \n",
       "2                 0           1               0                    0   \n",
       "3                 1           1               0                    0   \n",
       "4                 1           0               0                    0   \n",
       "\n",
       "   app_now/radio  app_now/fan access_type  \n",
       "0              1            0   no_access  \n",
       "1              1            0   no_access  \n",
       "2              0            0   no_access  \n",
       "3              0            0   no_access  \n",
       "4              0            0   no_access  "
      ]
     },
     "execution_count": 7,
     "metadata": {},
     "output_type": "execute_result"
    }
   ],
   "source": [
    "now_columns = ['app_now/{}'.format(a) for a in appliances]\n",
    "now_columns.append('access_type')\n",
    "survey[now_columns].head()"
   ]
  },
  {
   "cell_type": "markdown",
   "metadata": {},
   "source": [
    "The field is now narrowed to only households with PLN grid connections."
   ]
  },
  {
   "cell_type": "code",
   "execution_count": 8,
   "metadata": {
    "collapsed": false
   },
   "outputs": [
    {
     "data": {
      "text/html": [
       "<div>\n",
       "<table border=\"1\" class=\"dataframe\">\n",
       "  <thead>\n",
       "    <tr style=\"text-align: right;\">\n",
       "      <th></th>\n",
       "      <th>app_now/lighting</th>\n",
       "      <th>app_now/TV</th>\n",
       "      <th>app_now/fridge</th>\n",
       "      <th>app_now/rice_cooker</th>\n",
       "      <th>app_now/radio</th>\n",
       "      <th>app_now/fan</th>\n",
       "      <th>access_type</th>\n",
       "    </tr>\n",
       "  </thead>\n",
       "  <tbody>\n",
       "    <tr>\n",
       "      <th>46</th>\n",
       "      <td>1</td>\n",
       "      <td>1</td>\n",
       "      <td>0</td>\n",
       "      <td>1</td>\n",
       "      <td>0</td>\n",
       "      <td>0</td>\n",
       "      <td>PLN_grid</td>\n",
       "    </tr>\n",
       "    <tr>\n",
       "      <th>47</th>\n",
       "      <td>1</td>\n",
       "      <td>1</td>\n",
       "      <td>1</td>\n",
       "      <td>1</td>\n",
       "      <td>0</td>\n",
       "      <td>0</td>\n",
       "      <td>PLN_grid</td>\n",
       "    </tr>\n",
       "    <tr>\n",
       "      <th>48</th>\n",
       "      <td>1</td>\n",
       "      <td>1</td>\n",
       "      <td>1</td>\n",
       "      <td>1</td>\n",
       "      <td>0</td>\n",
       "      <td>0</td>\n",
       "      <td>PLN_grid</td>\n",
       "    </tr>\n",
       "    <tr>\n",
       "      <th>49</th>\n",
       "      <td>1</td>\n",
       "      <td>1</td>\n",
       "      <td>1</td>\n",
       "      <td>1</td>\n",
       "      <td>0</td>\n",
       "      <td>0</td>\n",
       "      <td>PLN_grid</td>\n",
       "    </tr>\n",
       "    <tr>\n",
       "      <th>50</th>\n",
       "      <td>1</td>\n",
       "      <td>1</td>\n",
       "      <td>0</td>\n",
       "      <td>1</td>\n",
       "      <td>0</td>\n",
       "      <td>0</td>\n",
       "      <td>PLN_grid</td>\n",
       "    </tr>\n",
       "  </tbody>\n",
       "</table>\n",
       "</div>"
      ],
      "text/plain": [
       "    app_now/lighting  app_now/TV  app_now/fridge  app_now/rice_cooker  \\\n",
       "46                 1           1               0                    1   \n",
       "47                 1           1               1                    1   \n",
       "48                 1           1               1                    1   \n",
       "49                 1           1               1                    1   \n",
       "50                 1           1               0                    1   \n",
       "\n",
       "    app_now/radio  app_now/fan access_type  \n",
       "46              0            0    PLN_grid  \n",
       "47              0            0    PLN_grid  \n",
       "48              0            0    PLN_grid  \n",
       "49              0            0    PLN_grid  \n",
       "50              0            0    PLN_grid  "
      ]
     },
     "execution_count": 8,
     "metadata": {},
     "output_type": "execute_result"
    }
   ],
   "source": [
    "grid = (survey['access_type']==\"PLN_grid\")\n",
    "grid_appliance = survey[now_columns][grid]\n",
    "grid_appliance.head()"
   ]
  },
  {
   "cell_type": "markdown",
   "metadata": {},
   "source": [
    "The sum of each column represents the number of appliances."
   ]
  },
  {
   "cell_type": "code",
   "execution_count": 9,
   "metadata": {
    "collapsed": false
   },
   "outputs": [
    {
     "data": {
      "text/plain": [
       "app_now/lighting                                                     487\n",
       "app_now/TV                                                           428\n",
       "app_now/fridge                                                       161\n",
       "app_now/rice_cooker                                                  146\n",
       "app_now/radio                                                        167\n",
       "app_now/fan                                                           76\n",
       "access_type            PLN_gridPLN_gridPLN_gridPLN_gridPLN_gridPLN_gr...\n",
       "dtype: object"
      ]
     },
     "execution_count": 9,
     "metadata": {},
     "output_type": "execute_result"
    }
   ],
   "source": [
    "grid_appliance_count = grid_appliance.sum()\n",
    "grid_appliance_count\n",
    "#Fix access type count display"
   ]
  },
  {
   "cell_type": "markdown",
   "metadata": {},
   "source": [
    "The mean of a binary data field represents a proportion and is calculated from the sum of appliance columns divided by the number of responses. Calculation does not include null responses."
   ]
  },
  {
   "cell_type": "code",
   "execution_count": 10,
   "metadata": {
    "collapsed": false,
    "scrolled": true
   },
   "outputs": [
    {
     "data": {
      "text/plain": [
       "app_now/lighting       0.927619\n",
       "app_now/TV             0.815238\n",
       "app_now/fridge         0.306667\n",
       "app_now/rice_cooker    0.278095\n",
       "app_now/radio          0.318095\n",
       "app_now/fan            0.144762\n",
       "dtype: float64"
      ]
     },
     "execution_count": 10,
     "metadata": {},
     "output_type": "execute_result"
    }
   ],
   "source": [
    "grid_appliance_mean = grid_appliance.mean()\n",
    "grid_appliance_mean"
   ]
  },
  {
   "cell_type": "code",
   "execution_count": 11,
   "metadata": {
    "collapsed": false
   },
   "outputs": [
    {
     "data": {
      "text/plain": [
       "app_now/lighting       0.927619\n",
       "app_now/TV             0.815238\n",
       "app_now/fridge         0.306667\n",
       "app_now/rice_cooker    0.278095\n",
       "app_now/radio          0.318095\n",
       "app_now/fan            0.144762\n",
       "dtype: float64"
      ]
     },
     "execution_count": 11,
     "metadata": {},
     "output_type": "execute_result"
    }
   ],
   "source": [
    "test = grid_appliance.dropna()\n",
    "test.mean()"
   ]
  },
  {
   "cell_type": "markdown",
   "metadata": {},
   "source": [
    "The number of null responses are needed and should be included in the estimtation in order to accurately reflect the population.\n",
    "\n",
    "`isnull()` identifies NaN responses as True and all others as False. `astype('float')` assigns binary values to True(1)/False(0). The `sum()` is equal to the number of non-responses."
   ]
  },
  {
   "cell_type": "code",
   "execution_count": 12,
   "metadata": {
    "collapsed": false,
    "scrolled": true
   },
   "outputs": [
    {
     "data": {
      "text/plain": [
       "app_now/lighting       23\n",
       "app_now/TV             23\n",
       "app_now/fridge         23\n",
       "app_now/rice_cooker    23\n",
       "app_now/radio          23\n",
       "app_now/fan            23\n",
       "access_type             0\n",
       "dtype: float64"
      ]
     },
     "execution_count": 12,
     "metadata": {},
     "output_type": "execute_result"
    }
   ],
   "source": [
    "null_grid_appliance = grid_appliance.isnull().astype('float').sum()\n",
    "null_grid_appliance"
   ]
  },
  {
   "cell_type": "markdown",
   "metadata": {},
   "source": [
    "Each appliance category has 23 non responses which is indicative that 23 households did not respond to appliance ownership at all. The product of this column and the appliance ownership mean will determine how many appliances those households should have if they are similar to other grid households. \n",
    " * I know that these are distributed uniformly but I don't think this calculation shows that precisely#"
   ]
  },
  {
   "cell_type": "code",
   "execution_count": 13,
   "metadata": {
    "collapsed": false
   },
   "outputs": [
    {
     "data": {
      "text/plain": [
       "access_type                  NaN\n",
       "app_now/TV             18.750476\n",
       "app_now/fan             3.329524\n",
       "app_now/fridge          7.053333\n",
       "app_now/lighting       21.335238\n",
       "app_now/radio           7.316190\n",
       "app_now/rice_cooker     6.396190\n",
       "dtype: float64"
      ]
     },
     "execution_count": 13,
     "metadata": {},
     "output_type": "execute_result"
    }
   ],
   "source": [
    "grid_appliance_correction = null_grid_appliance * grid_appliance_mean\n",
    "grid_appliance_correction \n",
    "#access type again. # why are the appliances reordered now?"
   ]
  },
  {
   "cell_type": "markdown",
   "metadata": {},
   "source": [
    "The sum of the correction with the original appliance count produces a more accurate ownership representation."
   ]
  },
  {
   "cell_type": "code",
   "execution_count": 14,
   "metadata": {
    "collapsed": false
   },
   "outputs": [
    {
     "data": {
      "text/plain": [
       "access_type                 NaN\n",
       "app_now/TV             446.7505\n",
       "app_now/fan            79.32952\n",
       "app_now/fridge         168.0533\n",
       "app_now/lighting       508.3352\n",
       "app_now/radio          174.3162\n",
       "app_now/rice_cooker    152.3962\n",
       "dtype: object"
      ]
     },
     "execution_count": 14,
     "metadata": {},
     "output_type": "execute_result"
    }
   ],
   "source": [
    "grid_appliance_actual = grid_appliance_count + grid_appliance_correction\n",
    "grid_appliance_actual"
   ]
  },
  {
   "cell_type": "markdown",
   "metadata": {},
   "source": [
    "# Checkpoint\n",
    "\n",
    " * Above is the new appliance count combined for all grid locations.\n",
    "\n",
    "##### Next\n",
    " *  In the graph below the amount of households that own an appliance is shown. A count of survey responses in a village can be used to quantify an amount of appliances in each village which will then be used with use hours to create energy estimates. This can probably be accomplished with a new column that counts each response in a village multiplied by each appliance column and returns a number of appliances   Example:"
   ]
  },
  {
   "cell_type": "markdown",
   "metadata": {},
   "source": [
    "if ajau has 100 households then that means they have 93 lighting 57 TV 21 Fridge 7 Rice Cooker 36 radio and 0 Fan\n",
    "there is 16 villages with most in the 90th percentile or above owning lighting so that is improbable but these are the next actions necessary along with verifying that the calculated appliances from households match the appliance count from survey data. "
   ]
  },
  {
   "cell_type": "markdown",
   "metadata": {},
   "source": [
    "`groupby` with `mean()` is used to filter mean appliance ownership by village. `groupby` includes only non-null responses in the calculation."
   ]
  },
  {
   "cell_type": "code",
   "execution_count": 15,
   "metadata": {
    "collapsed": false
   },
   "outputs": [
    {
     "data": {
      "text/html": [
       "<div>\n",
       "<table border=\"1\" class=\"dataframe\">\n",
       "  <thead>\n",
       "    <tr style=\"text-align: right;\">\n",
       "      <th></th>\n",
       "      <th>app_now/lighting</th>\n",
       "      <th>app_now/TV</th>\n",
       "      <th>app_now/fridge</th>\n",
       "      <th>app_now/rice_cooker</th>\n",
       "      <th>app_now/radio</th>\n",
       "      <th>app_now/fan</th>\n",
       "    </tr>\n",
       "    <tr>\n",
       "      <th>village_name</th>\n",
       "      <th></th>\n",
       "      <th></th>\n",
       "      <th></th>\n",
       "      <th></th>\n",
       "      <th></th>\n",
       "      <th></th>\n",
       "    </tr>\n",
       "  </thead>\n",
       "  <tbody>\n",
       "    <tr>\n",
       "      <th>Ajau</th>\n",
       "      <td>0.928571</td>\n",
       "      <td>0.571429</td>\n",
       "      <td>0.214286</td>\n",
       "      <td>0.071429</td>\n",
       "      <td>0.357143</td>\n",
       "      <td>0.000000</td>\n",
       "    </tr>\n",
       "    <tr>\n",
       "      <th>Asei</th>\n",
       "      <td>1.000000</td>\n",
       "      <td>0.875000</td>\n",
       "      <td>0.375000</td>\n",
       "      <td>0.791667</td>\n",
       "      <td>0.250000</td>\n",
       "      <td>0.166667</td>\n",
       "    </tr>\n",
       "    <tr>\n",
       "      <th>Babrongko</th>\n",
       "      <td>1.000000</td>\n",
       "      <td>0.813559</td>\n",
       "      <td>0.203390</td>\n",
       "      <td>0.186441</td>\n",
       "      <td>0.423729</td>\n",
       "      <td>0.118644</td>\n",
       "    </tr>\n",
       "    <tr>\n",
       "      <th>Burawai</th>\n",
       "      <td>1.000000</td>\n",
       "      <td>1.000000</td>\n",
       "      <td>0.800000</td>\n",
       "      <td>0.200000</td>\n",
       "      <td>0.600000</td>\n",
       "      <td>0.400000</td>\n",
       "    </tr>\n",
       "    <tr>\n",
       "      <th>Evale</th>\n",
       "      <td>0.761905</td>\n",
       "      <td>0.761905</td>\n",
       "      <td>0.285714</td>\n",
       "      <td>0.142857</td>\n",
       "      <td>0.380952</td>\n",
       "      <td>0.047619</td>\n",
       "    </tr>\n",
       "    <tr>\n",
       "      <th>Flafow</th>\n",
       "      <td>1.000000</td>\n",
       "      <td>0.882353</td>\n",
       "      <td>0.088235</td>\n",
       "      <td>0.088235</td>\n",
       "      <td>0.176471</td>\n",
       "      <td>0.000000</td>\n",
       "    </tr>\n",
       "    <tr>\n",
       "      <th>Hobong</th>\n",
       "      <td>0.888889</td>\n",
       "      <td>0.888889</td>\n",
       "      <td>0.444444</td>\n",
       "      <td>0.222222</td>\n",
       "      <td>0.611111</td>\n",
       "      <td>0.277778</td>\n",
       "    </tr>\n",
       "    <tr>\n",
       "      <th>Khamayakha</th>\n",
       "      <td>0.100000</td>\n",
       "      <td>0.700000</td>\n",
       "      <td>0.300000</td>\n",
       "      <td>0.300000</td>\n",
       "      <td>0.200000</td>\n",
       "      <td>0.300000</td>\n",
       "    </tr>\n",
       "    <tr>\n",
       "      <th>Kheleubulow</th>\n",
       "      <td>1.000000</td>\n",
       "      <td>0.956522</td>\n",
       "      <td>0.608696</td>\n",
       "      <td>0.739130</td>\n",
       "      <td>0.043478</td>\n",
       "      <td>0.260870</td>\n",
       "    </tr>\n",
       "    <tr>\n",
       "      <th>Kwadeware</th>\n",
       "      <td>0.964286</td>\n",
       "      <td>0.821429</td>\n",
       "      <td>0.250000</td>\n",
       "      <td>0.321429</td>\n",
       "      <td>0.500000</td>\n",
       "      <td>0.071429</td>\n",
       "    </tr>\n",
       "    <tr>\n",
       "      <th>Pantai_Yahim</th>\n",
       "      <td>1.000000</td>\n",
       "      <td>0.846154</td>\n",
       "      <td>0.230769</td>\n",
       "      <td>0.230769</td>\n",
       "      <td>0.307692</td>\n",
       "      <td>0.076923</td>\n",
       "    </tr>\n",
       "    <tr>\n",
       "      <th>Simporo</th>\n",
       "      <td>1.000000</td>\n",
       "      <td>0.777778</td>\n",
       "      <td>0.314815</td>\n",
       "      <td>0.333333</td>\n",
       "      <td>0.314815</td>\n",
       "      <td>0.185185</td>\n",
       "    </tr>\n",
       "    <tr>\n",
       "      <th>Sosiri</th>\n",
       "      <td>0.802326</td>\n",
       "      <td>0.779070</td>\n",
       "      <td>0.313953</td>\n",
       "      <td>0.232558</td>\n",
       "      <td>0.267442</td>\n",
       "      <td>0.220930</td>\n",
       "    </tr>\n",
       "    <tr>\n",
       "      <th>Yakonde</th>\n",
       "      <td>1.000000</td>\n",
       "      <td>0.750000</td>\n",
       "      <td>0.423077</td>\n",
       "      <td>0.269231</td>\n",
       "      <td>0.288462</td>\n",
       "      <td>0.173077</td>\n",
       "    </tr>\n",
       "    <tr>\n",
       "      <th>Yobeh</th>\n",
       "      <td>0.920000</td>\n",
       "      <td>0.800000</td>\n",
       "      <td>0.400000</td>\n",
       "      <td>0.360000</td>\n",
       "      <td>0.520000</td>\n",
       "      <td>0.120000</td>\n",
       "    </tr>\n",
       "    <tr>\n",
       "      <th>Yoka</th>\n",
       "      <td>0.960000</td>\n",
       "      <td>0.920000</td>\n",
       "      <td>0.400000</td>\n",
       "      <td>0.320000</td>\n",
       "      <td>0.320000</td>\n",
       "      <td>0.160000</td>\n",
       "    </tr>\n",
       "  </tbody>\n",
       "</table>\n",
       "</div>"
      ],
      "text/plain": [
       "              app_now/lighting  app_now/TV  app_now/fridge  \\\n",
       "village_name                                                 \n",
       "Ajau                  0.928571    0.571429        0.214286   \n",
       "Asei                  1.000000    0.875000        0.375000   \n",
       "Babrongko             1.000000    0.813559        0.203390   \n",
       "Burawai               1.000000    1.000000        0.800000   \n",
       "Evale                 0.761905    0.761905        0.285714   \n",
       "Flafow                1.000000    0.882353        0.088235   \n",
       "Hobong                0.888889    0.888889        0.444444   \n",
       "Khamayakha            0.100000    0.700000        0.300000   \n",
       "Kheleubulow           1.000000    0.956522        0.608696   \n",
       "Kwadeware             0.964286    0.821429        0.250000   \n",
       "Pantai_Yahim          1.000000    0.846154        0.230769   \n",
       "Simporo               1.000000    0.777778        0.314815   \n",
       "Sosiri                0.802326    0.779070        0.313953   \n",
       "Yakonde               1.000000    0.750000        0.423077   \n",
       "Yobeh                 0.920000    0.800000        0.400000   \n",
       "Yoka                  0.960000    0.920000        0.400000   \n",
       "\n",
       "              app_now/rice_cooker  app_now/radio  app_now/fan  \n",
       "village_name                                                   \n",
       "Ajau                     0.071429       0.357143     0.000000  \n",
       "Asei                     0.791667       0.250000     0.166667  \n",
       "Babrongko                0.186441       0.423729     0.118644  \n",
       "Burawai                  0.200000       0.600000     0.400000  \n",
       "Evale                    0.142857       0.380952     0.047619  \n",
       "Flafow                   0.088235       0.176471     0.000000  \n",
       "Hobong                   0.222222       0.611111     0.277778  \n",
       "Khamayakha               0.300000       0.200000     0.300000  \n",
       "Kheleubulow              0.739130       0.043478     0.260870  \n",
       "Kwadeware                0.321429       0.500000     0.071429  \n",
       "Pantai_Yahim             0.230769       0.307692     0.076923  \n",
       "Simporo                  0.333333       0.314815     0.185185  \n",
       "Sosiri                   0.232558       0.267442     0.220930  \n",
       "Yakonde                  0.269231       0.288462     0.173077  \n",
       "Yobeh                    0.360000       0.520000     0.120000  \n",
       "Yoka                     0.320000       0.320000     0.160000  "
      ]
     },
     "execution_count": 15,
     "metadata": {},
     "output_type": "execute_result"
    }
   ],
   "source": [
    "grid_appliance_village_mean = grid_appliance.groupby(survey['village_name']).mean()\n",
    "grid_appliance_village_mean"
   ]
  },
  {
   "cell_type": "code",
   "execution_count": 16,
   "metadata": {
    "collapsed": false
   },
   "outputs": [],
   "source": [
    "grid_appliance_village_mean['village_name'] = grid_appliance_village_mean.index\n",
    "melted = pd.melt(grid_appliance_village_mean, \n",
    "                 id_vars=['village_name'],\n",
    "                 value_vars=['app_now/lighting','app_now/TV','app_now/fridge',\n",
    "                             'app_now/rice_cooker','app_now/radio','app_now/fan'],\n",
    "                 value_name='Percent Ownership')"
   ]
  },
  {
   "cell_type": "code",
   "execution_count": 17,
   "metadata": {
    "collapsed": false
   },
   "outputs": [
    {
     "data": {
      "text/plain": [
       "<matplotlib.axes._subplots.AxesSubplot at 0x108cd9fd0>"
      ]
     },
     "execution_count": 17,
     "metadata": {},
     "output_type": "execute_result"
    },
    {
     "data": {
      "image/png": "[encoded data removed]",
      "text/plain": [
       "<matplotlib.figure.Figure at 0x108cd55f8>"
      ]
     },
     "metadata": {},
     "output_type": "display_data"
    }
   ],
   "source": [
    "plt.figure(figsize=(18,8))\n",
    "sns.barplot(x='village_name', y='Percent Ownership', hue='variable', data=melted)"
   ]
  },
  {
   "cell_type": "markdown",
   "metadata": {},
   "source": [
    "## Appliance Count"
   ]
  },
  {
   "cell_type": "code",
   "execution_count": null,
   "metadata": {
    "collapsed": true
   },
   "outputs": [],
   "source": []
  },
  {
   "cell_type": "markdown",
   "metadata": {},
   "source": [
    "## Appliance Use Times"
   ]
  },
  {
   "cell_type": "code",
   "execution_count": 18,
   "metadata": {
    "collapsed": false
   },
   "outputs": [],
   "source": [
    "for a in appliances:\n",
    "    # create column label from appliance names\n",
    "    wk_col = 'app_{}_per_wk'.format(a)\n",
    "    survey[wk_col] = survey[wk_col][survey[wk_col]<=7]\n",
    "    hr_col = 'app_{}_hrs'.format(a)\n",
    "    survey[hr_col] = survey[hr_col][survey[hr_col]<=24]\n",
    "    weekly_hr_col = 'weekly_hrs/{}'.format(a)\n",
    "    survey[weekly_hr_col] = survey[wk_col] * survey[hr_col]\n",
    "    #returns weekly hours less than or equal to 168\n",
    "    #survey[weekly_hr_col] = survey[weekly_hr_col][survey[weekly_hr_col]<=168]\n",
    "    #energy_col = 'daily_{}_energy'.format(a)\n",
    "\n",
    "wk_columns = [f for f in survey.columns if 'weekly' in f]"
   ]
  },
  {
   "cell_type": "code",
   "execution_count": 19,
   "metadata": {
    "collapsed": false
   },
   "outputs": [],
   "source": [
    "#[survey[wk_columns][grid]]"
   ]
  },
  {
   "cell_type": "code",
   "execution_count": 20,
   "metadata": {
    "collapsed": false
   },
   "outputs": [
    {
     "data": {
      "text/html": [
       "<div>\n",
       "<table border=\"1\" class=\"dataframe\">\n",
       "  <thead>\n",
       "    <tr style=\"text-align: right;\">\n",
       "      <th></th>\n",
       "      <th>weekly_hrs/lighting</th>\n",
       "      <th>weekly_hrs/TV</th>\n",
       "      <th>weekly_hrs/fridge</th>\n",
       "      <th>weekly_hrs/rice_cooker</th>\n",
       "      <th>weekly_hrs/radio</th>\n",
       "      <th>weekly_hrs/fan</th>\n",
       "    </tr>\n",
       "  </thead>\n",
       "  <tbody>\n",
       "    <tr>\n",
       "      <th>46</th>\n",
       "      <td>63</td>\n",
       "      <td>28</td>\n",
       "      <td>NaN</td>\n",
       "      <td>24</td>\n",
       "      <td>NaN</td>\n",
       "      <td>NaN</td>\n",
       "    </tr>\n",
       "    <tr>\n",
       "      <th>47</th>\n",
       "      <td>77</td>\n",
       "      <td>49</td>\n",
       "      <td>168</td>\n",
       "      <td>8</td>\n",
       "      <td>NaN</td>\n",
       "      <td>NaN</td>\n",
       "    </tr>\n",
       "    <tr>\n",
       "      <th>48</th>\n",
       "      <td>84</td>\n",
       "      <td>42</td>\n",
       "      <td>168</td>\n",
       "      <td>28</td>\n",
       "      <td>NaN</td>\n",
       "      <td>NaN</td>\n",
       "    </tr>\n",
       "    <tr>\n",
       "      <th>49</th>\n",
       "      <td>84</td>\n",
       "      <td>70</td>\n",
       "      <td>168</td>\n",
       "      <td>7</td>\n",
       "      <td>NaN</td>\n",
       "      <td>NaN</td>\n",
       "    </tr>\n",
       "    <tr>\n",
       "      <th>50</th>\n",
       "      <td>42</td>\n",
       "      <td>84</td>\n",
       "      <td>NaN</td>\n",
       "      <td>8</td>\n",
       "      <td>NaN</td>\n",
       "      <td>NaN</td>\n",
       "    </tr>\n",
       "  </tbody>\n",
       "</table>\n",
       "</div>"
      ],
      "text/plain": [
       "    weekly_hrs/lighting  weekly_hrs/TV  weekly_hrs/fridge  \\\n",
       "46                   63             28                NaN   \n",
       "47                   77             49                168   \n",
       "48                   84             42                168   \n",
       "49                   84             70                168   \n",
       "50                   42             84                NaN   \n",
       "\n",
       "    weekly_hrs/rice_cooker  weekly_hrs/radio  weekly_hrs/fan  \n",
       "46                      24               NaN             NaN  \n",
       "47                       8               NaN             NaN  \n",
       "48                      28               NaN             NaN  \n",
       "49                       7               NaN             NaN  \n",
       "50                       8               NaN             NaN  "
      ]
     },
     "execution_count": 20,
     "metadata": {},
     "output_type": "execute_result"
    }
   ],
   "source": [
    "weekly_hours = survey[wk_columns]\n",
    "grid_weekly_hours = weekly_hours[grid]\n",
    "grid_weekly_hours.head()"
   ]
  },
  {
   "cell_type": "code",
   "execution_count": 21,
   "metadata": {
    "collapsed": false
   },
   "outputs": [],
   "source": [
    "#wk_columns = [f for f in survey.columns if 'weekly' in f]\n",
    "id_columns = ['village_name']\n",
    "\n",
    "columns = wk_columns + id_columns\n",
    "survey[columns] = survey[columns][grid]\n",
    "plt_data = pd.melt(survey[columns], value_vars=wk_columns, id_vars=id_columns)"
   ]
  },
  {
   "cell_type": "code",
   "execution_count": 22,
   "metadata": {
    "collapsed": false
   },
   "outputs": [
    {
     "data": {
      "text/plain": [
       "<matplotlib.axes._subplots.AxesSubplot at 0x10a222908>"
      ]
     },
     "execution_count": 22,
     "metadata": {},
     "output_type": "execute_result"
    },
    {
     "data": {
      "image/png": "[encoded data removed]",
      "text/plain": [
       "<matplotlib.figure.Figure at 0x10a562e10>"
      ]
     },
     "metadata": {},
     "output_type": "display_data"
    }
   ],
   "source": [
    "plt.figure(figsize=(32,14))\n",
    "sns.boxplot(data=plt_data, hue='variable', y='value', x='village_name')"
   ]
  },
  {
   "cell_type": "code",
   "execution_count": 23,
   "metadata": {
    "collapsed": false,
    "scrolled": true
   },
   "outputs": [
    {
     "data": {
      "text/plain": [
       "weekly_hrs/lighting       481\n",
       "weekly_hrs/TV             421\n",
       "weekly_hrs/fridge         153\n",
       "weekly_hrs/rice_cooker    143\n",
       "weekly_hrs/radio          164\n",
       "weekly_hrs/fan             75\n",
       "dtype: int64"
      ]
     },
     "execution_count": 23,
     "metadata": {},
     "output_type": "execute_result"
    }
   ],
   "source": [
    "grid_weekly_hours_count = grid_weekly_hours.count()\n",
    "grid_weekly_hours_count"
   ]
  },
  {
   "cell_type": "code",
   "execution_count": 24,
   "metadata": {
    "collapsed": false
   },
   "outputs": [
    {
     "data": {
      "text/plain": [
       "weekly_hrs/lighting        67\n",
       "weekly_hrs/TV             127\n",
       "weekly_hrs/fridge         395\n",
       "weekly_hrs/rice_cooker    405\n",
       "weekly_hrs/radio          384\n",
       "weekly_hrs/fan            473\n",
       "dtype: float64"
      ]
     },
     "execution_count": 24,
     "metadata": {},
     "output_type": "execute_result"
    }
   ],
   "source": [
    "null_hours = grid_weekly_hours.isnull().astype('float')\n",
    "null_hours.sum()"
   ]
  },
  {
   "cell_type": "code",
   "execution_count": 25,
   "metadata": {
    "collapsed": false
   },
   "outputs": [
    {
     "data": {
      "text/plain": [
       "TV             0.801905\n",
       "access_type         NaN\n",
       "fan            0.142857\n",
       "fridge         0.291429\n",
       "lighting       0.916190\n",
       "radio          0.312381\n",
       "rice_cooker    0.272381\n",
       "dtype: float64"
      ]
     },
     "execution_count": 25,
     "metadata": {},
     "output_type": "execute_result"
    }
   ],
   "source": [
    "grid_appliance.columns = [col.replace('app_now/', '') for col in grid_appliance.columns]\n",
    "grid_weekly_hours.columns = [col.replace('weekly_hrs/', '') for col in grid_weekly_hours.columns]\n",
    "hours_response_proportion = grid_weekly_hours.count() / grid_appliance.count()\n",
    "hours_response_proportion"
   ]
  },
  {
   "cell_type": "code",
   "execution_count": 26,
   "metadata": {
    "collapsed": false
   },
   "outputs": [
    {
     "data": {
      "text/plain": [
       "lighting       0.927619\n",
       "TV             0.815238\n",
       "fridge         0.306667\n",
       "rice_cooker    0.278095\n",
       "radio          0.318095\n",
       "fan            0.144762\n",
       "dtype: float64"
      ]
     },
     "execution_count": 26,
     "metadata": {},
     "output_type": "execute_result"
    }
   ],
   "source": [
    "grid_appliance.mean()"
   ]
  },
  {
   "cell_type": "code",
   "execution_count": 27,
   "metadata": {
    "collapsed": false
   },
   "outputs": [
    {
     "data": {
      "text/plain": [
       "TV             421\n",
       "access_type    NaN\n",
       "fan             75\n",
       "fridge         153\n",
       "lighting       481\n",
       "radio          164\n",
       "rice_cooker    143\n",
       "dtype: float64"
      ]
     },
     "execution_count": 27,
     "metadata": {},
     "output_type": "execute_result"
    }
   ],
   "source": [
    "ownership_data = hours_response_proportion * grid_appliance.count()\n",
    "ownership_data"
   ]
  },
  {
   "cell_type": "code",
   "execution_count": 28,
   "metadata": {
    "collapsed": false
   },
   "outputs": [
    {
     "data": {
      "text/plain": [
       "lighting        85.467775\n",
       "TV              54.028504\n",
       "fridge         163.771242\n",
       "rice_cooker     91.545455\n",
       "radio           20.225610\n",
       "fan             27.293333\n",
       "dtype: float64"
      ]
     },
     "execution_count": 28,
     "metadata": {},
     "output_type": "execute_result"
    }
   ],
   "source": [
    "grid_weekly_hours_mean = grid_weekly_hours.mean()\n",
    "grid_weekly_hours_mean"
   ]
  },
  {
   "cell_type": "markdown",
   "metadata": {},
   "source": [
    "## Estimated Grid Load"
   ]
  },
  {
   "cell_type": "code",
   "execution_count": 29,
   "metadata": {
    "collapsed": false
   },
   "outputs": [],
   "source": [
    "powers = {'TV':0.075, 'fridge':0.200, 'radio':0.100, 'fan':0.135, 'rice_cooker':0.700, 'lighting':0.400}\n",
    "appliance_list = ['TV', 'fridge', 'radio', 'fan', 'rice_cooker', 'lighting']\n",
    "\n",
    "for appliance in appliance_list:\n",
    "    # create column label from appliance names\n",
    "    wk_col = 'app_{}_per_wk'.format(appliance)\n",
    "    hr_col = 'app_{}_hrs'.format(appliance)\n",
    "    energy_col = 'daily_{}_energy'.format(appliance)\n",
    "    weekly_hr_col = 'weekly_{}_hrs'.format(appliance)\n",
    "    survey[weekly_hr_col] = survey[wk_col] * survey[hr_col]    \n",
    "    survey[energy_col] = survey[weekly_hr_col] / 7 * powers[appliance]\n",
    "    \n",
    "wk_columns = [f for f in survey.columns if 'weekly' in f]\n",
    "en_columns = [f for f in survey.columns if 'daily' in f]\n",
    "id_columns = ['village_name', 'demand_point', 'access_type']\n",
    "\n",
    "columns = wk_columns + id_columns\n",
    "plt_data = pd.melt(survey[columns], value_vars=wk_columns, id_vars=id_columns)"
   ]
  },
  {
   "cell_type": "code",
   "execution_count": 30,
   "metadata": {
    "collapsed": false
   },
   "outputs": [
    {
     "data": {
      "text/html": [
       "<div>\n",
       "<table border=\"1\" class=\"dataframe\">\n",
       "  <thead>\n",
       "    <tr style=\"text-align: right;\">\n",
       "      <th></th>\n",
       "      <th>daily_TV_energy</th>\n",
       "      <th>daily_fridge_energy</th>\n",
       "      <th>daily_radio_energy</th>\n",
       "      <th>daily_fan_energy</th>\n",
       "      <th>daily_rice_cooker_energy</th>\n",
       "      <th>daily_lighting_energy</th>\n",
       "    </tr>\n",
       "    <tr>\n",
       "      <th>village_name</th>\n",
       "      <th></th>\n",
       "      <th></th>\n",
       "      <th></th>\n",
       "      <th></th>\n",
       "      <th></th>\n",
       "      <th></th>\n",
       "    </tr>\n",
       "  </thead>\n",
       "  <tbody>\n",
       "    <tr>\n",
       "      <th>Ajau</th>\n",
       "      <td>3.717857</td>\n",
       "      <td>12.342857</td>\n",
       "      <td>1.685714</td>\n",
       "      <td>NaN</td>\n",
       "      <td>3.6</td>\n",
       "      <td>58.971429</td>\n",
       "    </tr>\n",
       "    <tr>\n",
       "      <th>Asei</th>\n",
       "      <td>11.571429</td>\n",
       "      <td>43.200000</td>\n",
       "      <td>0.928571</td>\n",
       "      <td>0.752143</td>\n",
       "      <td>71.2</td>\n",
       "      <td>102.000000</td>\n",
       "    </tr>\n",
       "    <tr>\n",
       "      <th>Babrongko</th>\n",
       "      <td>25.028571</td>\n",
       "      <td>57.600000</td>\n",
       "      <td>6.971429</td>\n",
       "      <td>1.832143</td>\n",
       "      <td>171.5</td>\n",
       "      <td>266.800000</td>\n",
       "    </tr>\n",
       "    <tr>\n",
       "      <th>Burawai</th>\n",
       "      <td>1.992857</td>\n",
       "      <td>19.200000</td>\n",
       "      <td>0.714286</td>\n",
       "      <td>0.578571</td>\n",
       "      <td>4.2</td>\n",
       "      <td>12.400000</td>\n",
       "    </tr>\n",
       "    <tr>\n",
       "      <th>Evale</th>\n",
       "      <td>6.878571</td>\n",
       "      <td>21.942857</td>\n",
       "      <td>2.685714</td>\n",
       "      <td>0.347143</td>\n",
       "      <td>18.0</td>\n",
       "      <td>61.714286</td>\n",
       "    </tr>\n",
       "    <tr>\n",
       "      <th>Flafow</th>\n",
       "      <td>40.200000</td>\n",
       "      <td>28.800000</td>\n",
       "      <td>7.271429</td>\n",
       "      <td>NaN</td>\n",
       "      <td>77.0</td>\n",
       "      <td>326.400000</td>\n",
       "    </tr>\n",
       "    <tr>\n",
       "      <th>Hobong</th>\n",
       "      <td>4.232143</td>\n",
       "      <td>22.628571</td>\n",
       "      <td>1.028571</td>\n",
       "      <td>1.118571</td>\n",
       "      <td>33.7</td>\n",
       "      <td>83.657143</td>\n",
       "    </tr>\n",
       "    <tr>\n",
       "      <th>Khamayakha</th>\n",
       "      <td>3.021429</td>\n",
       "      <td>4.800000</td>\n",
       "      <td>0.228571</td>\n",
       "      <td>4.570714</td>\n",
       "      <td>16.8</td>\n",
       "      <td>NaN</td>\n",
       "    </tr>\n",
       "    <tr>\n",
       "      <th>Kheleubulow</th>\n",
       "      <td>28.575000</td>\n",
       "      <td>67.200000</td>\n",
       "      <td>0.800000</td>\n",
       "      <td>9.990000</td>\n",
       "      <td>281.4</td>\n",
       "      <td>106.000000</td>\n",
       "    </tr>\n",
       "    <tr>\n",
       "      <th>Kwadeware</th>\n",
       "      <td>5.400000</td>\n",
       "      <td>33.600000</td>\n",
       "      <td>3.257143</td>\n",
       "      <td>0.675000</td>\n",
       "      <td>14.2</td>\n",
       "      <td>259.200000</td>\n",
       "    </tr>\n",
       "    <tr>\n",
       "      <th>Pantai_Yahim</th>\n",
       "      <td>13.800000</td>\n",
       "      <td>14.400000</td>\n",
       "      <td>0.485714</td>\n",
       "      <td>0.192857</td>\n",
       "      <td>47.6</td>\n",
       "      <td>62.400000</td>\n",
       "    </tr>\n",
       "    <tr>\n",
       "      <th>Simporo</th>\n",
       "      <td>30.085714</td>\n",
       "      <td>81.600000</td>\n",
       "      <td>3.928571</td>\n",
       "      <td>2.950714</td>\n",
       "      <td>280.6</td>\n",
       "      <td>258.000000</td>\n",
       "    </tr>\n",
       "    <tr>\n",
       "      <th>Sosiri</th>\n",
       "      <td>27.685714</td>\n",
       "      <td>115.200000</td>\n",
       "      <td>5.514286</td>\n",
       "      <td>7.945714</td>\n",
       "      <td>61.6</td>\n",
       "      <td>212.800000</td>\n",
       "    </tr>\n",
       "    <tr>\n",
       "      <th>Yakonde</th>\n",
       "      <td>20.475000</td>\n",
       "      <td>97.400000</td>\n",
       "      <td>5.700000</td>\n",
       "      <td>4.281429</td>\n",
       "      <td>47.6</td>\n",
       "      <td>142.400000</td>\n",
       "    </tr>\n",
       "    <tr>\n",
       "      <th>Yobeh</th>\n",
       "      <td>5.442857</td>\n",
       "      <td>48.000000</td>\n",
       "      <td>3.600000</td>\n",
       "      <td>0.443571</td>\n",
       "      <td>111.1</td>\n",
       "      <td>214.000000</td>\n",
       "    </tr>\n",
       "    <tr>\n",
       "      <th>Yoka</th>\n",
       "      <td>15.600000</td>\n",
       "      <td>48.000000</td>\n",
       "      <td>2.585714</td>\n",
       "      <td>3.799286</td>\n",
       "      <td>69.0</td>\n",
       "      <td>182.400000</td>\n",
       "    </tr>\n",
       "  </tbody>\n",
       "</table>\n",
       "</div>"
      ],
      "text/plain": [
       "              daily_TV_energy  daily_fridge_energy  daily_radio_energy  \\\n",
       "village_name                                                             \n",
       "Ajau                 3.717857            12.342857            1.685714   \n",
       "Asei                11.571429            43.200000            0.928571   \n",
       "Babrongko           25.028571            57.600000            6.971429   \n",
       "Burawai              1.992857            19.200000            0.714286   \n",
       "Evale                6.878571            21.942857            2.685714   \n",
       "Flafow              40.200000            28.800000            7.271429   \n",
       "Hobong               4.232143            22.628571            1.028571   \n",
       "Khamayakha           3.021429             4.800000            0.228571   \n",
       "Kheleubulow         28.575000            67.200000            0.800000   \n",
       "Kwadeware            5.400000            33.600000            3.257143   \n",
       "Pantai_Yahim        13.800000            14.400000            0.485714   \n",
       "Simporo             30.085714            81.600000            3.928571   \n",
       "Sosiri              27.685714           115.200000            5.514286   \n",
       "Yakonde             20.475000            97.400000            5.700000   \n",
       "Yobeh                5.442857            48.000000            3.600000   \n",
       "Yoka                15.600000            48.000000            2.585714   \n",
       "\n",
       "              daily_fan_energy  daily_rice_cooker_energy  \\\n",
       "village_name                                               \n",
       "Ajau                       NaN                       3.6   \n",
       "Asei                  0.752143                      71.2   \n",
       "Babrongko             1.832143                     171.5   \n",
       "Burawai               0.578571                       4.2   \n",
       "Evale                 0.347143                      18.0   \n",
       "Flafow                     NaN                      77.0   \n",
       "Hobong                1.118571                      33.7   \n",
       "Khamayakha            4.570714                      16.8   \n",
       "Kheleubulow           9.990000                     281.4   \n",
       "Kwadeware             0.675000                      14.2   \n",
       "Pantai_Yahim          0.192857                      47.6   \n",
       "Simporo               2.950714                     280.6   \n",
       "Sosiri                7.945714                      61.6   \n",
       "Yakonde               4.281429                      47.6   \n",
       "Yobeh                 0.443571                     111.1   \n",
       "Yoka                  3.799286                      69.0   \n",
       "\n",
       "              daily_lighting_energy  \n",
       "village_name                         \n",
       "Ajau                      58.971429  \n",
       "Asei                     102.000000  \n",
       "Babrongko                266.800000  \n",
       "Burawai                   12.400000  \n",
       "Evale                     61.714286  \n",
       "Flafow                   326.400000  \n",
       "Hobong                    83.657143  \n",
       "Khamayakha                      NaN  \n",
       "Kheleubulow              106.000000  \n",
       "Kwadeware                259.200000  \n",
       "Pantai_Yahim              62.400000  \n",
       "Simporo                  258.000000  \n",
       "Sosiri                   212.800000  \n",
       "Yakonde                  142.400000  \n",
       "Yobeh                    214.000000  \n",
       "Yoka                     182.400000  "
      ]
     },
     "execution_count": 30,
     "metadata": {},
     "output_type": "execute_result"
    }
   ],
   "source": [
    "test = survey[en_columns].groupby(survey['village_name']).sum()\n",
    "test"
   ]
  },
  {
   "cell_type": "markdown",
   "metadata": {
    "collapsed": true
   },
   "source": []
  },
  {
   "cell_type": "markdown",
   "metadata": {
    "collapsed": true
   },
   "source": [
    "## Actual Grid Load Comparison"
   ]
  },
  {
   "cell_type": "code",
   "execution_count": null,
   "metadata": {
    "collapsed": true
   },
   "outputs": [],
   "source": []
  },
  {
   "cell_type": "markdown",
   "metadata": {},
   "source": [
    "## No Access Simulation"
   ]
  },
  {
   "cell_type": "code",
   "execution_count": null,
   "metadata": {
    "collapsed": true
   },
   "outputs": [],
   "source": []
  }
 ],
 "metadata": {
  "kernelspec": {
   "display_name": "Python 3",
   "language": "python",
   "name": "python3"
  },
  "language_info": {
   "codemirror_mode": {
    "name": "ipython",
    "version": 3
   },
   "file_extension": ".py",
   "mimetype": "text/x-python",
   "name": "python",
   "nbconvert_exporter": "python",
   "pygments_lexer": "ipython3",
   "version": "3.4.4"
  }
 },
 "nbformat": 4,
 "nbformat_minor": 0
}
